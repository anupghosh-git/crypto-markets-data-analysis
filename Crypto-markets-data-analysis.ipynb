{
 "cells": [
  {
   "cell_type": "markdown",
   "id": "4c035253",
   "metadata": {},
   "source": [
    "# Crypto Markets Data Analysis\n",
    "\n",
    "Analyzing data of crypto markets data\n",
    "- Data Cleaning\n",
    "- Data Filtering\n",
    "- Finding the insights of dataset\n",
    "- Set Hypothesis based on the dataset\n",
    "- Presenting the data as per the finding the answer of the hypothesis"
   ]
  },
  {
   "cell_type": "code",
   "execution_count": 67,
   "id": "9b194a23",
   "metadata": {},
   "outputs": [],
   "source": [
    "import numpy as np\n",
    "import pandas as pd\n",
    "import datetime as dt\n",
    "import matplotlib as mplt\n",
    "import matplotlib.pyplot as plt\n",
    "import seaborn as sns"
   ]
  },
  {
   "cell_type": "code",
   "execution_count": 68,
   "id": "a9b7e3f0",
   "metadata": {},
   "outputs": [],
   "source": [
    "df_cr = pd.read_csv(\"crypto-markets.csv\")"
   ]
  },
  {
   "cell_type": "code",
   "execution_count": 69,
   "id": "74246e06",
   "metadata": {},
   "outputs": [
    {
     "name": "stdout",
     "output_type": "stream",
     "text": [
      "<class 'pandas.core.frame.DataFrame'>\n",
      "RangeIndex: 942297 entries, 0 to 942296\n",
      "Data columns (total 13 columns):\n",
      " #   Column       Non-Null Count   Dtype  \n",
      "---  ------       --------------   -----  \n",
      " 0   slug         942297 non-null  object \n",
      " 1   symbol       942297 non-null  object \n",
      " 2   name         942297 non-null  object \n",
      " 3   date         942297 non-null  object \n",
      " 4   ranknow      942297 non-null  int64  \n",
      " 5   open         942297 non-null  float64\n",
      " 6   high         942297 non-null  float64\n",
      " 7   low          942297 non-null  float64\n",
      " 8   close        942297 non-null  float64\n",
      " 9   volume       942297 non-null  float64\n",
      " 10  market       942297 non-null  float64\n",
      " 11  close_ratio  942297 non-null  float64\n",
      " 12  spread       942297 non-null  float64\n",
      "dtypes: float64(8), int64(1), object(4)\n",
      "memory usage: 93.5+ MB\n"
     ]
    }
   ],
   "source": [
    "df_cr.info()"
   ]
  },
  {
   "cell_type": "code",
   "execution_count": 70,
   "id": "a405e6a6",
   "metadata": {},
   "outputs": [
    {
     "data": {
      "text/html": [
       "<div>\n",
       "<style scoped>\n",
       "    .dataframe tbody tr th:only-of-type {\n",
       "        vertical-align: middle;\n",
       "    }\n",
       "\n",
       "    .dataframe tbody tr th {\n",
       "        vertical-align: top;\n",
       "    }\n",
       "\n",
       "    .dataframe thead th {\n",
       "        text-align: right;\n",
       "    }\n",
       "</style>\n",
       "<table border=\"1\" class=\"dataframe\">\n",
       "  <thead>\n",
       "    <tr style=\"text-align: right;\">\n",
       "      <th></th>\n",
       "      <th>count</th>\n",
       "      <th>mean</th>\n",
       "      <th>std</th>\n",
       "      <th>min</th>\n",
       "      <th>25%</th>\n",
       "      <th>50%</th>\n",
       "      <th>75%</th>\n",
       "      <th>max</th>\n",
       "    </tr>\n",
       "  </thead>\n",
       "  <tbody>\n",
       "    <tr>\n",
       "      <th>ranknow</th>\n",
       "      <td>942297.0</td>\n",
       "      <td>1.000171e+03</td>\n",
       "      <td>5.875753e+02</td>\n",
       "      <td>1.000000e+00</td>\n",
       "      <td>465.000000</td>\n",
       "      <td>1072.000000</td>\n",
       "      <td>1.484000e+03</td>\n",
       "      <td>2.072000e+03</td>\n",
       "    </tr>\n",
       "    <tr>\n",
       "      <th>open</th>\n",
       "      <td>942297.0</td>\n",
       "      <td>3.483522e+02</td>\n",
       "      <td>1.318436e+04</td>\n",
       "      <td>2.500000e-09</td>\n",
       "      <td>0.002321</td>\n",
       "      <td>0.023983</td>\n",
       "      <td>2.268600e-01</td>\n",
       "      <td>2.298390e+06</td>\n",
       "    </tr>\n",
       "    <tr>\n",
       "      <th>high</th>\n",
       "      <td>942297.0</td>\n",
       "      <td>4.085930e+02</td>\n",
       "      <td>1.616386e+04</td>\n",
       "      <td>3.200000e-09</td>\n",
       "      <td>0.002628</td>\n",
       "      <td>0.026802</td>\n",
       "      <td>2.508940e-01</td>\n",
       "      <td>2.926100e+06</td>\n",
       "    </tr>\n",
       "    <tr>\n",
       "      <th>low</th>\n",
       "      <td>942297.0</td>\n",
       "      <td>2.962526e+02</td>\n",
       "      <td>1.092931e+04</td>\n",
       "      <td>2.500000e-10</td>\n",
       "      <td>0.002044</td>\n",
       "      <td>0.021437</td>\n",
       "      <td>2.043910e-01</td>\n",
       "      <td>2.030590e+06</td>\n",
       "    </tr>\n",
       "    <tr>\n",
       "      <th>close</th>\n",
       "      <td>942297.0</td>\n",
       "      <td>3.461018e+02</td>\n",
       "      <td>1.309822e+04</td>\n",
       "      <td>2.000000e-10</td>\n",
       "      <td>0.002314</td>\n",
       "      <td>0.023892</td>\n",
       "      <td>2.259340e-01</td>\n",
       "      <td>2.300740e+06</td>\n",
       "    </tr>\n",
       "    <tr>\n",
       "      <th>volume</th>\n",
       "      <td>942297.0</td>\n",
       "      <td>8.720383e+06</td>\n",
       "      <td>1.839802e+08</td>\n",
       "      <td>0.000000e+00</td>\n",
       "      <td>175.000000</td>\n",
       "      <td>4278.000000</td>\n",
       "      <td>1.190900e+05</td>\n",
       "      <td>2.384090e+10</td>\n",
       "    </tr>\n",
       "    <tr>\n",
       "      <th>market</th>\n",
       "      <td>942297.0</td>\n",
       "      <td>1.725060e+08</td>\n",
       "      <td>3.575590e+09</td>\n",
       "      <td>0.000000e+00</td>\n",
       "      <td>29581.000000</td>\n",
       "      <td>522796.000000</td>\n",
       "      <td>6.874647e+06</td>\n",
       "      <td>3.265025e+11</td>\n",
       "    </tr>\n",
       "    <tr>\n",
       "      <th>close_ratio</th>\n",
       "      <td>942297.0</td>\n",
       "      <td>4.594995e-01</td>\n",
       "      <td>3.261605e-01</td>\n",
       "      <td>-1.000000e+00</td>\n",
       "      <td>0.162900</td>\n",
       "      <td>0.432400</td>\n",
       "      <td>7.458000e-01</td>\n",
       "      <td>1.000000e+00</td>\n",
       "    </tr>\n",
       "    <tr>\n",
       "      <th>spread</th>\n",
       "      <td>942297.0</td>\n",
       "      <td>1.123400e+02</td>\n",
       "      <td>6.783713e+03</td>\n",
       "      <td>0.000000e+00</td>\n",
       "      <td>0.000000</td>\n",
       "      <td>0.000000</td>\n",
       "      <td>3.000000e-02</td>\n",
       "      <td>1.770563e+06</td>\n",
       "    </tr>\n",
       "  </tbody>\n",
       "</table>\n",
       "</div>"
      ],
      "text/plain": [
       "                count          mean           std           min           25%  \\\n",
       "ranknow      942297.0  1.000171e+03  5.875753e+02  1.000000e+00    465.000000   \n",
       "open         942297.0  3.483522e+02  1.318436e+04  2.500000e-09      0.002321   \n",
       "high         942297.0  4.085930e+02  1.616386e+04  3.200000e-09      0.002628   \n",
       "low          942297.0  2.962526e+02  1.092931e+04  2.500000e-10      0.002044   \n",
       "close        942297.0  3.461018e+02  1.309822e+04  2.000000e-10      0.002314   \n",
       "volume       942297.0  8.720383e+06  1.839802e+08  0.000000e+00    175.000000   \n",
       "market       942297.0  1.725060e+08  3.575590e+09  0.000000e+00  29581.000000   \n",
       "close_ratio  942297.0  4.594995e-01  3.261605e-01 -1.000000e+00      0.162900   \n",
       "spread       942297.0  1.123400e+02  6.783713e+03  0.000000e+00      0.000000   \n",
       "\n",
       "                       50%           75%           max  \n",
       "ranknow        1072.000000  1.484000e+03  2.072000e+03  \n",
       "open              0.023983  2.268600e-01  2.298390e+06  \n",
       "high              0.026802  2.508940e-01  2.926100e+06  \n",
       "low               0.021437  2.043910e-01  2.030590e+06  \n",
       "close             0.023892  2.259340e-01  2.300740e+06  \n",
       "volume         4278.000000  1.190900e+05  2.384090e+10  \n",
       "market       522796.000000  6.874647e+06  3.265025e+11  \n",
       "close_ratio       0.432400  7.458000e-01  1.000000e+00  \n",
       "spread            0.000000  3.000000e-02  1.770563e+06  "
      ]
     },
     "execution_count": 70,
     "metadata": {},
     "output_type": "execute_result"
    }
   ],
   "source": [
    "df_cr.describe().T"
   ]
  },
  {
   "cell_type": "code",
   "execution_count": 71,
   "id": "fcd6b7ed",
   "metadata": {},
   "outputs": [
    {
     "data": {
      "text/plain": [
       "Index(['slug', 'symbol', 'name', 'date', 'ranknow', 'open', 'high', 'low',\n",
       "       'close', 'volume', 'market', 'close_ratio', 'spread'],\n",
       "      dtype='object')"
      ]
     },
     "execution_count": 71,
     "metadata": {},
     "output_type": "execute_result"
    }
   ],
   "source": [
    "df_cr.columns"
   ]
  },
  {
   "cell_type": "code",
   "execution_count": 72,
   "id": "7434017a",
   "metadata": {},
   "outputs": [
    {
     "data": {
      "text/plain": [
       "(942297, 13)"
      ]
     },
     "execution_count": 72,
     "metadata": {},
     "output_type": "execute_result"
    }
   ],
   "source": [
    "df_cr.shape"
   ]
  },
  {
   "cell_type": "code",
   "execution_count": 73,
   "id": "7915a121",
   "metadata": {},
   "outputs": [
    {
     "data": {
      "text/html": [
       "<div>\n",
       "<style scoped>\n",
       "    .dataframe tbody tr th:only-of-type {\n",
       "        vertical-align: middle;\n",
       "    }\n",
       "\n",
       "    .dataframe tbody tr th {\n",
       "        vertical-align: top;\n",
       "    }\n",
       "\n",
       "    .dataframe thead th {\n",
       "        text-align: right;\n",
       "    }\n",
       "</style>\n",
       "<table border=\"1\" class=\"dataframe\">\n",
       "  <thead>\n",
       "    <tr style=\"text-align: right;\">\n",
       "      <th></th>\n",
       "      <th>slug</th>\n",
       "      <th>symbol</th>\n",
       "      <th>name</th>\n",
       "      <th>date</th>\n",
       "      <th>ranknow</th>\n",
       "      <th>open</th>\n",
       "      <th>high</th>\n",
       "      <th>low</th>\n",
       "      <th>close</th>\n",
       "      <th>volume</th>\n",
       "      <th>market</th>\n",
       "      <th>close_ratio</th>\n",
       "      <th>spread</th>\n",
       "    </tr>\n",
       "  </thead>\n",
       "  <tbody>\n",
       "    <tr>\n",
       "      <th>0</th>\n",
       "      <td>bitcoin</td>\n",
       "      <td>BTC</td>\n",
       "      <td>Bitcoin</td>\n",
       "      <td>2013-04-28</td>\n",
       "      <td>1</td>\n",
       "      <td>135.30</td>\n",
       "      <td>135.98</td>\n",
       "      <td>132.10</td>\n",
       "      <td>134.21</td>\n",
       "      <td>0.0</td>\n",
       "      <td>1.488567e+09</td>\n",
       "      <td>0.5438</td>\n",
       "      <td>3.88</td>\n",
       "    </tr>\n",
       "    <tr>\n",
       "      <th>1</th>\n",
       "      <td>bitcoin</td>\n",
       "      <td>BTC</td>\n",
       "      <td>Bitcoin</td>\n",
       "      <td>2013-04-29</td>\n",
       "      <td>1</td>\n",
       "      <td>134.44</td>\n",
       "      <td>147.49</td>\n",
       "      <td>134.00</td>\n",
       "      <td>144.54</td>\n",
       "      <td>0.0</td>\n",
       "      <td>1.603769e+09</td>\n",
       "      <td>0.7813</td>\n",
       "      <td>13.49</td>\n",
       "    </tr>\n",
       "    <tr>\n",
       "      <th>2</th>\n",
       "      <td>bitcoin</td>\n",
       "      <td>BTC</td>\n",
       "      <td>Bitcoin</td>\n",
       "      <td>2013-04-30</td>\n",
       "      <td>1</td>\n",
       "      <td>144.00</td>\n",
       "      <td>146.93</td>\n",
       "      <td>134.05</td>\n",
       "      <td>139.00</td>\n",
       "      <td>0.0</td>\n",
       "      <td>1.542813e+09</td>\n",
       "      <td>0.3843</td>\n",
       "      <td>12.88</td>\n",
       "    </tr>\n",
       "    <tr>\n",
       "      <th>3</th>\n",
       "      <td>bitcoin</td>\n",
       "      <td>BTC</td>\n",
       "      <td>Bitcoin</td>\n",
       "      <td>2013-05-01</td>\n",
       "      <td>1</td>\n",
       "      <td>139.00</td>\n",
       "      <td>139.89</td>\n",
       "      <td>107.72</td>\n",
       "      <td>116.99</td>\n",
       "      <td>0.0</td>\n",
       "      <td>1.298955e+09</td>\n",
       "      <td>0.2882</td>\n",
       "      <td>32.17</td>\n",
       "    </tr>\n",
       "    <tr>\n",
       "      <th>4</th>\n",
       "      <td>bitcoin</td>\n",
       "      <td>BTC</td>\n",
       "      <td>Bitcoin</td>\n",
       "      <td>2013-05-02</td>\n",
       "      <td>1</td>\n",
       "      <td>116.38</td>\n",
       "      <td>125.60</td>\n",
       "      <td>92.28</td>\n",
       "      <td>105.21</td>\n",
       "      <td>0.0</td>\n",
       "      <td>1.168517e+09</td>\n",
       "      <td>0.3881</td>\n",
       "      <td>33.32</td>\n",
       "    </tr>\n",
       "  </tbody>\n",
       "</table>\n",
       "</div>"
      ],
      "text/plain": [
       "      slug symbol     name        date  ranknow    open    high     low  \\\n",
       "0  bitcoin    BTC  Bitcoin  2013-04-28        1  135.30  135.98  132.10   \n",
       "1  bitcoin    BTC  Bitcoin  2013-04-29        1  134.44  147.49  134.00   \n",
       "2  bitcoin    BTC  Bitcoin  2013-04-30        1  144.00  146.93  134.05   \n",
       "3  bitcoin    BTC  Bitcoin  2013-05-01        1  139.00  139.89  107.72   \n",
       "4  bitcoin    BTC  Bitcoin  2013-05-02        1  116.38  125.60   92.28   \n",
       "\n",
       "    close  volume        market  close_ratio  spread  \n",
       "0  134.21     0.0  1.488567e+09       0.5438    3.88  \n",
       "1  144.54     0.0  1.603769e+09       0.7813   13.49  \n",
       "2  139.00     0.0  1.542813e+09       0.3843   12.88  \n",
       "3  116.99     0.0  1.298955e+09       0.2882   32.17  \n",
       "4  105.21     0.0  1.168517e+09       0.3881   33.32  "
      ]
     },
     "execution_count": 73,
     "metadata": {},
     "output_type": "execute_result"
    }
   ],
   "source": [
    "df_cr.head(5)"
   ]
  },
  {
   "cell_type": "code",
   "execution_count": 74,
   "id": "d7cc0074",
   "metadata": {},
   "outputs": [
    {
     "data": {
      "text/html": [
       "<div>\n",
       "<style scoped>\n",
       "    .dataframe tbody tr th:only-of-type {\n",
       "        vertical-align: middle;\n",
       "    }\n",
       "\n",
       "    .dataframe tbody tr th {\n",
       "        vertical-align: top;\n",
       "    }\n",
       "\n",
       "    .dataframe thead th {\n",
       "        text-align: right;\n",
       "    }\n",
       "</style>\n",
       "<table border=\"1\" class=\"dataframe\">\n",
       "  <thead>\n",
       "    <tr style=\"text-align: right;\">\n",
       "      <th></th>\n",
       "      <th>slug</th>\n",
       "      <th>symbol</th>\n",
       "      <th>name</th>\n",
       "      <th>date</th>\n",
       "      <th>ranknow</th>\n",
       "      <th>open</th>\n",
       "      <th>high</th>\n",
       "      <th>low</th>\n",
       "      <th>close</th>\n",
       "      <th>volume</th>\n",
       "      <th>market</th>\n",
       "      <th>close_ratio</th>\n",
       "      <th>spread</th>\n",
       "    </tr>\n",
       "  </thead>\n",
       "  <tbody>\n",
       "    <tr>\n",
       "      <th>942292</th>\n",
       "      <td>project-x</td>\n",
       "      <td>NANOX</td>\n",
       "      <td>Project-X</td>\n",
       "      <td>2018-11-26</td>\n",
       "      <td>1727</td>\n",
       "      <td>22424.60</td>\n",
       "      <td>23049.30</td>\n",
       "      <td>17607.50</td>\n",
       "      <td>20724.80</td>\n",
       "      <td>143.0</td>\n",
       "      <td>1622.0</td>\n",
       "      <td>0.5728</td>\n",
       "      <td>5441.80</td>\n",
       "    </tr>\n",
       "    <tr>\n",
       "      <th>942293</th>\n",
       "      <td>project-x</td>\n",
       "      <td>NANOX</td>\n",
       "      <td>Project-X</td>\n",
       "      <td>2018-11-27</td>\n",
       "      <td>1727</td>\n",
       "      <td>20711.90</td>\n",
       "      <td>23742.10</td>\n",
       "      <td>19292.90</td>\n",
       "      <td>23298.70</td>\n",
       "      <td>637.0</td>\n",
       "      <td>1823.0</td>\n",
       "      <td>0.9003</td>\n",
       "      <td>4449.20</td>\n",
       "    </tr>\n",
       "    <tr>\n",
       "      <th>942294</th>\n",
       "      <td>project-x</td>\n",
       "      <td>NANOX</td>\n",
       "      <td>Project-X</td>\n",
       "      <td>2018-11-28</td>\n",
       "      <td>1727</td>\n",
       "      <td>23320.90</td>\n",
       "      <td>25235.10</td>\n",
       "      <td>19888.10</td>\n",
       "      <td>24442.70</td>\n",
       "      <td>49.0</td>\n",
       "      <td>1913.0</td>\n",
       "      <td>0.8518</td>\n",
       "      <td>5347.00</td>\n",
       "    </tr>\n",
       "    <tr>\n",
       "      <th>942295</th>\n",
       "      <td>project-x</td>\n",
       "      <td>NANOX</td>\n",
       "      <td>Project-X</td>\n",
       "      <td>2018-11-29</td>\n",
       "      <td>1727</td>\n",
       "      <td>24543.53</td>\n",
       "      <td>24582.47</td>\n",
       "      <td>21457.95</td>\n",
       "      <td>22839.44</td>\n",
       "      <td>153.0</td>\n",
       "      <td>1788.0</td>\n",
       "      <td>0.4421</td>\n",
       "      <td>3124.52</td>\n",
       "    </tr>\n",
       "    <tr>\n",
       "      <th>942296</th>\n",
       "      <td>project-x</td>\n",
       "      <td>NANOX</td>\n",
       "      <td>Project-X</td>\n",
       "      <td>2018-11-30</td>\n",
       "      <td>1727</td>\n",
       "      <td>22872.09</td>\n",
       "      <td>23086.98</td>\n",
       "      <td>19040.91</td>\n",
       "      <td>21136.72</td>\n",
       "      <td>125.0</td>\n",
       "      <td>1654.0</td>\n",
       "      <td>0.5180</td>\n",
       "      <td>4046.07</td>\n",
       "    </tr>\n",
       "  </tbody>\n",
       "</table>\n",
       "</div>"
      ],
      "text/plain": [
       "             slug symbol       name        date  ranknow      open      high  \\\n",
       "942292  project-x  NANOX  Project-X  2018-11-26     1727  22424.60  23049.30   \n",
       "942293  project-x  NANOX  Project-X  2018-11-27     1727  20711.90  23742.10   \n",
       "942294  project-x  NANOX  Project-X  2018-11-28     1727  23320.90  25235.10   \n",
       "942295  project-x  NANOX  Project-X  2018-11-29     1727  24543.53  24582.47   \n",
       "942296  project-x  NANOX  Project-X  2018-11-30     1727  22872.09  23086.98   \n",
       "\n",
       "             low     close  volume  market  close_ratio   spread  \n",
       "942292  17607.50  20724.80   143.0  1622.0       0.5728  5441.80  \n",
       "942293  19292.90  23298.70   637.0  1823.0       0.9003  4449.20  \n",
       "942294  19888.10  24442.70    49.0  1913.0       0.8518  5347.00  \n",
       "942295  21457.95  22839.44   153.0  1788.0       0.4421  3124.52  \n",
       "942296  19040.91  21136.72   125.0  1654.0       0.5180  4046.07  "
      ]
     },
     "execution_count": 74,
     "metadata": {},
     "output_type": "execute_result"
    }
   ],
   "source": [
    "df_cr.tail()"
   ]
  },
  {
   "cell_type": "markdown",
   "id": "b5772bd6",
   "metadata": {},
   "source": [
    "## Original Data backup"
   ]
  },
  {
   "cell_type": "code",
   "execution_count": 75,
   "id": "894137de",
   "metadata": {},
   "outputs": [
    {
     "data": {
      "text/plain": [
       "'Original data backup'"
      ]
     },
     "execution_count": 75,
     "metadata": {},
     "output_type": "execute_result"
    }
   ],
   "source": [
    "df_cr_b1 = df_cr.copy \n",
    "\"\"\"Original data backup\"\"\""
   ]
  },
  {
   "cell_type": "markdown",
   "id": "4d5a6da0",
   "metadata": {},
   "source": [
    "## Data Cleaning"
   ]
  },
  {
   "cell_type": "code",
   "execution_count": 76,
   "id": "3b893847",
   "metadata": {},
   "outputs": [
    {
     "data": {
      "text/plain": [
       "slug           0\n",
       "symbol         0\n",
       "name           0\n",
       "date           0\n",
       "ranknow        0\n",
       "open           0\n",
       "high           0\n",
       "low            0\n",
       "close          0\n",
       "volume         0\n",
       "market         0\n",
       "close_ratio    0\n",
       "spread         0\n",
       "dtype: int64"
      ]
     },
     "execution_count": 76,
     "metadata": {},
     "output_type": "execute_result"
    }
   ],
   "source": [
    "df_cr.isnull().sum() #No Null Data available in the dataframe"
   ]
  },
  {
   "cell_type": "code",
   "execution_count": 77,
   "id": "7271367d",
   "metadata": {},
   "outputs": [
    {
     "data": {
      "text/plain": [
       "slug            object\n",
       "symbol          object\n",
       "name            object\n",
       "date            object\n",
       "ranknow          int64\n",
       "open           float64\n",
       "high           float64\n",
       "low            float64\n",
       "close          float64\n",
       "volume         float64\n",
       "market         float64\n",
       "close_ratio    float64\n",
       "spread         float64\n",
       "dtype: object"
      ]
     },
     "execution_count": 77,
     "metadata": {},
     "output_type": "execute_result"
    }
   ],
   "source": [
    "df_cr.dtypes"
   ]
  },
  {
   "cell_type": "code",
   "execution_count": 78,
   "id": "bdbcbaf1",
   "metadata": {},
   "outputs": [
    {
     "name": "stderr",
     "output_type": "stream",
     "text": [
      "/tmp/ipykernel_4340/1301157957.py:4: FutureWarning: The default value of regex will change from True to False in a future version.\n",
      "  df_cr[col] = df_cr[col].str.replace(r'\\W', \"\")\n"
     ]
    },
    {
     "name": "stdout",
     "output_type": "stream",
     "text": [
      "            slug symbol      name        date  ranknow      open      high  \\\n",
      "0        bitcoin    BTC   Bitcoin  2013-04-28        1    135.30    135.98   \n",
      "1        bitcoin    BTC   Bitcoin  2013-04-29        1    134.44    147.49   \n",
      "2        bitcoin    BTC   Bitcoin  2013-04-30        1    144.00    146.93   \n",
      "3        bitcoin    BTC   Bitcoin  2013-05-01        1    139.00    139.89   \n",
      "4        bitcoin    BTC   Bitcoin  2013-05-02        1    116.38    125.60   \n",
      "...          ...    ...       ...         ...      ...       ...       ...   \n",
      "942292  projectx  NANOX  ProjectX  2018-11-26     1727  22424.60  23049.30   \n",
      "942293  projectx  NANOX  ProjectX  2018-11-27     1727  20711.90  23742.10   \n",
      "942294  projectx  NANOX  ProjectX  2018-11-28     1727  23320.90  25235.10   \n",
      "942295  projectx  NANOX  ProjectX  2018-11-29     1727  24543.53  24582.47   \n",
      "942296  projectx  NANOX  ProjectX  2018-11-30     1727  22872.09  23086.98   \n",
      "\n",
      "             low     close  volume        market  close_ratio   spread  \n",
      "0         132.10    134.21     0.0  1.488567e+09       0.5438     3.88  \n",
      "1         134.00    144.54     0.0  1.603769e+09       0.7813    13.49  \n",
      "2         134.05    139.00     0.0  1.542813e+09       0.3843    12.88  \n",
      "3         107.72    116.99     0.0  1.298955e+09       0.2882    32.17  \n",
      "4          92.28    105.21     0.0  1.168517e+09       0.3881    33.32  \n",
      "...          ...       ...     ...           ...          ...      ...  \n",
      "942292  17607.50  20724.80   143.0  1.622000e+03       0.5728  5441.80  \n",
      "942293  19292.90  23298.70   637.0  1.823000e+03       0.9003  4449.20  \n",
      "942294  19888.10  24442.70    49.0  1.913000e+03       0.8518  5347.00  \n",
      "942295  21457.95  22839.44   153.0  1.788000e+03       0.4421  3124.52  \n",
      "942296  19040.91  21136.72   125.0  1.654000e+03       0.5180  4046.07  \n",
      "\n",
      "[942297 rows x 13 columns]\n"
     ]
    }
   ],
   "source": [
    "#Replacing special charecter for string data\n",
    "colums = ['slug', 'symbol', 'name']\n",
    "for col in df_cr[colums]:\n",
    "    df_cr[col] = df_cr[col].str.replace(r'\\W', \"\")\n",
    "print(df_cr)    "
   ]
  },
  {
   "cell_type": "code",
   "execution_count": 79,
   "id": "745bea1b",
   "metadata": {},
   "outputs": [
    {
     "name": "stderr",
     "output_type": "stream",
     "text": [
      "/tmp/ipykernel_4340/839700863.py:1: FutureWarning: The default value of regex will change from True to False in a future version.\n",
      "  print(df_cr['name'].str.replace(r'\\W', \"\"))\n"
     ]
    },
    {
     "name": "stdout",
     "output_type": "stream",
     "text": [
      "0          Bitcoin\n",
      "1          Bitcoin\n",
      "2          Bitcoin\n",
      "3          Bitcoin\n",
      "4          Bitcoin\n",
      "            ...   \n",
      "942292    ProjectX\n",
      "942293    ProjectX\n",
      "942294    ProjectX\n",
      "942295    ProjectX\n",
      "942296    ProjectX\n",
      "Name: name, Length: 942297, dtype: object\n"
     ]
    }
   ],
   "source": [
    "print(df_cr['name'].str.replace(r'\\W', \"\"))"
   ]
  },
  {
   "cell_type": "markdown",
   "id": "e371e563",
   "metadata": {},
   "source": [
    "## Data Filtering"
   ]
  },
  {
   "cell_type": "code",
   "execution_count": 80,
   "id": "73ce3300",
   "metadata": {},
   "outputs": [
    {
     "data": {
      "text/html": [
       "<div>\n",
       "<style scoped>\n",
       "    .dataframe tbody tr th:only-of-type {\n",
       "        vertical-align: middle;\n",
       "    }\n",
       "\n",
       "    .dataframe tbody tr th {\n",
       "        vertical-align: top;\n",
       "    }\n",
       "\n",
       "    .dataframe thead th {\n",
       "        text-align: right;\n",
       "    }\n",
       "</style>\n",
       "<table border=\"1\" class=\"dataframe\">\n",
       "  <thead>\n",
       "    <tr style=\"text-align: right;\">\n",
       "      <th></th>\n",
       "      <th>slug</th>\n",
       "      <th>symbol</th>\n",
       "      <th>name</th>\n",
       "      <th>date</th>\n",
       "      <th>ranknow</th>\n",
       "      <th>open</th>\n",
       "      <th>high</th>\n",
       "      <th>low</th>\n",
       "      <th>close</th>\n",
       "      <th>volume</th>\n",
       "      <th>market</th>\n",
       "      <th>close_ratio</th>\n",
       "      <th>spread</th>\n",
       "    </tr>\n",
       "  </thead>\n",
       "  <tbody>\n",
       "    <tr>\n",
       "      <th>0</th>\n",
       "      <td>bitcoin</td>\n",
       "      <td>BTC</td>\n",
       "      <td>Bitcoin</td>\n",
       "      <td>2013-04-28</td>\n",
       "      <td>1</td>\n",
       "      <td>135.30</td>\n",
       "      <td>135.98</td>\n",
       "      <td>132.10</td>\n",
       "      <td>134.21</td>\n",
       "      <td>0.0</td>\n",
       "      <td>1.488567e+09</td>\n",
       "      <td>0.5438</td>\n",
       "      <td>3.88</td>\n",
       "    </tr>\n",
       "    <tr>\n",
       "      <th>1</th>\n",
       "      <td>bitcoin</td>\n",
       "      <td>BTC</td>\n",
       "      <td>Bitcoin</td>\n",
       "      <td>2013-04-29</td>\n",
       "      <td>1</td>\n",
       "      <td>134.44</td>\n",
       "      <td>147.49</td>\n",
       "      <td>134.00</td>\n",
       "      <td>144.54</td>\n",
       "      <td>0.0</td>\n",
       "      <td>1.603769e+09</td>\n",
       "      <td>0.7813</td>\n",
       "      <td>13.49</td>\n",
       "    </tr>\n",
       "    <tr>\n",
       "      <th>2</th>\n",
       "      <td>bitcoin</td>\n",
       "      <td>BTC</td>\n",
       "      <td>Bitcoin</td>\n",
       "      <td>2013-04-30</td>\n",
       "      <td>1</td>\n",
       "      <td>144.00</td>\n",
       "      <td>146.93</td>\n",
       "      <td>134.05</td>\n",
       "      <td>139.00</td>\n",
       "      <td>0.0</td>\n",
       "      <td>1.542813e+09</td>\n",
       "      <td>0.3843</td>\n",
       "      <td>12.88</td>\n",
       "    </tr>\n",
       "    <tr>\n",
       "      <th>3</th>\n",
       "      <td>bitcoin</td>\n",
       "      <td>BTC</td>\n",
       "      <td>Bitcoin</td>\n",
       "      <td>2013-05-01</td>\n",
       "      <td>1</td>\n",
       "      <td>139.00</td>\n",
       "      <td>139.89</td>\n",
       "      <td>107.72</td>\n",
       "      <td>116.99</td>\n",
       "      <td>0.0</td>\n",
       "      <td>1.298955e+09</td>\n",
       "      <td>0.2882</td>\n",
       "      <td>32.17</td>\n",
       "    </tr>\n",
       "    <tr>\n",
       "      <th>4</th>\n",
       "      <td>bitcoin</td>\n",
       "      <td>BTC</td>\n",
       "      <td>Bitcoin</td>\n",
       "      <td>2013-05-02</td>\n",
       "      <td>1</td>\n",
       "      <td>116.38</td>\n",
       "      <td>125.60</td>\n",
       "      <td>92.28</td>\n",
       "      <td>105.21</td>\n",
       "      <td>0.0</td>\n",
       "      <td>1.168517e+09</td>\n",
       "      <td>0.3881</td>\n",
       "      <td>33.32</td>\n",
       "    </tr>\n",
       "    <tr>\n",
       "      <th>...</th>\n",
       "      <td>...</td>\n",
       "      <td>...</td>\n",
       "      <td>...</td>\n",
       "      <td>...</td>\n",
       "      <td>...</td>\n",
       "      <td>...</td>\n",
       "      <td>...</td>\n",
       "      <td>...</td>\n",
       "      <td>...</td>\n",
       "      <td>...</td>\n",
       "      <td>...</td>\n",
       "      <td>...</td>\n",
       "      <td>...</td>\n",
       "    </tr>\n",
       "    <tr>\n",
       "      <th>942292</th>\n",
       "      <td>projectx</td>\n",
       "      <td>NANOX</td>\n",
       "      <td>ProjectX</td>\n",
       "      <td>2018-11-26</td>\n",
       "      <td>1727</td>\n",
       "      <td>22424.60</td>\n",
       "      <td>23049.30</td>\n",
       "      <td>17607.50</td>\n",
       "      <td>20724.80</td>\n",
       "      <td>143.0</td>\n",
       "      <td>1.622000e+03</td>\n",
       "      <td>0.5728</td>\n",
       "      <td>5441.80</td>\n",
       "    </tr>\n",
       "    <tr>\n",
       "      <th>942293</th>\n",
       "      <td>projectx</td>\n",
       "      <td>NANOX</td>\n",
       "      <td>ProjectX</td>\n",
       "      <td>2018-11-27</td>\n",
       "      <td>1727</td>\n",
       "      <td>20711.90</td>\n",
       "      <td>23742.10</td>\n",
       "      <td>19292.90</td>\n",
       "      <td>23298.70</td>\n",
       "      <td>637.0</td>\n",
       "      <td>1.823000e+03</td>\n",
       "      <td>0.9003</td>\n",
       "      <td>4449.20</td>\n",
       "    </tr>\n",
       "    <tr>\n",
       "      <th>942294</th>\n",
       "      <td>projectx</td>\n",
       "      <td>NANOX</td>\n",
       "      <td>ProjectX</td>\n",
       "      <td>2018-11-28</td>\n",
       "      <td>1727</td>\n",
       "      <td>23320.90</td>\n",
       "      <td>25235.10</td>\n",
       "      <td>19888.10</td>\n",
       "      <td>24442.70</td>\n",
       "      <td>49.0</td>\n",
       "      <td>1.913000e+03</td>\n",
       "      <td>0.8518</td>\n",
       "      <td>5347.00</td>\n",
       "    </tr>\n",
       "    <tr>\n",
       "      <th>942295</th>\n",
       "      <td>projectx</td>\n",
       "      <td>NANOX</td>\n",
       "      <td>ProjectX</td>\n",
       "      <td>2018-11-29</td>\n",
       "      <td>1727</td>\n",
       "      <td>24543.53</td>\n",
       "      <td>24582.47</td>\n",
       "      <td>21457.95</td>\n",
       "      <td>22839.44</td>\n",
       "      <td>153.0</td>\n",
       "      <td>1.788000e+03</td>\n",
       "      <td>0.4421</td>\n",
       "      <td>3124.52</td>\n",
       "    </tr>\n",
       "    <tr>\n",
       "      <th>942296</th>\n",
       "      <td>projectx</td>\n",
       "      <td>NANOX</td>\n",
       "      <td>ProjectX</td>\n",
       "      <td>2018-11-30</td>\n",
       "      <td>1727</td>\n",
       "      <td>22872.09</td>\n",
       "      <td>23086.98</td>\n",
       "      <td>19040.91</td>\n",
       "      <td>21136.72</td>\n",
       "      <td>125.0</td>\n",
       "      <td>1.654000e+03</td>\n",
       "      <td>0.5180</td>\n",
       "      <td>4046.07</td>\n",
       "    </tr>\n",
       "  </tbody>\n",
       "</table>\n",
       "<p>942297 rows × 13 columns</p>\n",
       "</div>"
      ],
      "text/plain": [
       "            slug symbol      name        date  ranknow      open      high  \\\n",
       "0        bitcoin    BTC   Bitcoin  2013-04-28        1    135.30    135.98   \n",
       "1        bitcoin    BTC   Bitcoin  2013-04-29        1    134.44    147.49   \n",
       "2        bitcoin    BTC   Bitcoin  2013-04-30        1    144.00    146.93   \n",
       "3        bitcoin    BTC   Bitcoin  2013-05-01        1    139.00    139.89   \n",
       "4        bitcoin    BTC   Bitcoin  2013-05-02        1    116.38    125.60   \n",
       "...          ...    ...       ...         ...      ...       ...       ...   \n",
       "942292  projectx  NANOX  ProjectX  2018-11-26     1727  22424.60  23049.30   \n",
       "942293  projectx  NANOX  ProjectX  2018-11-27     1727  20711.90  23742.10   \n",
       "942294  projectx  NANOX  ProjectX  2018-11-28     1727  23320.90  25235.10   \n",
       "942295  projectx  NANOX  ProjectX  2018-11-29     1727  24543.53  24582.47   \n",
       "942296  projectx  NANOX  ProjectX  2018-11-30     1727  22872.09  23086.98   \n",
       "\n",
       "             low     close  volume        market  close_ratio   spread  \n",
       "0         132.10    134.21     0.0  1.488567e+09       0.5438     3.88  \n",
       "1         134.00    144.54     0.0  1.603769e+09       0.7813    13.49  \n",
       "2         134.05    139.00     0.0  1.542813e+09       0.3843    12.88  \n",
       "3         107.72    116.99     0.0  1.298955e+09       0.2882    32.17  \n",
       "4          92.28    105.21     0.0  1.168517e+09       0.3881    33.32  \n",
       "...          ...       ...     ...           ...          ...      ...  \n",
       "942292  17607.50  20724.80   143.0  1.622000e+03       0.5728  5441.80  \n",
       "942293  19292.90  23298.70   637.0  1.823000e+03       0.9003  4449.20  \n",
       "942294  19888.10  24442.70    49.0  1.913000e+03       0.8518  5347.00  \n",
       "942295  21457.95  22839.44   153.0  1.788000e+03       0.4421  3124.52  \n",
       "942296  19040.91  21136.72   125.0  1.654000e+03       0.5180  4046.07  \n",
       "\n",
       "[942297 rows x 13 columns]"
      ]
     },
     "execution_count": 80,
     "metadata": {},
     "output_type": "execute_result"
    }
   ],
   "source": [
    "df_cr\n"
   ]
  },
  {
   "cell_type": "code",
   "execution_count": 81,
   "id": "ceca982b",
   "metadata": {},
   "outputs": [],
   "source": [
    "#df_name = df_cr[['slug', 'name']]\n",
    "#df_name_slug_incon = df_name[df_name['slug'].str.upper() != df_name['name'].str.upper()]\n",
    "#print(df_name_slug_incon)\n",
    "#df_sort_symbol_rank  = df_cr.sort_values(by=['name'], ascending=False)\n",
    "#df_sort_symbol_rank\n",
    "#df_cr_check = df_cr.name\n",
    "\n",
    "#df_cr_check = df_cr.name\n",
    "#df_cr_check.nunique()#2070"
   ]
  },
  {
   "cell_type": "markdown",
   "id": "dae71f97",
   "metadata": {},
   "source": [
    "### Finding Crypto coin insight las per the rank\n",
    "\n",
    "- Median\n",
    "- Standard deviation"
   ]
  },
  {
   "cell_type": "code",
   "execution_count": 82,
   "id": "5c1d542d",
   "metadata": {},
   "outputs": [],
   "source": [
    "df_rank_name = df_cr.groupby(by = ['ranknow', 'name'])"
   ]
  },
  {
   "cell_type": "code",
   "execution_count": 83,
   "id": "9389f7aa",
   "metadata": {},
   "outputs": [
    {
     "data": {
      "text/plain": [
       "'Top 10 crypto status in crypto market '"
      ]
     },
     "execution_count": 83,
     "metadata": {},
     "output_type": "execute_result"
    }
   ],
   "source": [
    "df_rank_name_t10 = df_rank_name.median().head(10)\n",
    "\"\"\"Top 10 crypto status in crypto market \"\"\""
   ]
  },
  {
   "cell_type": "code",
   "execution_count": 84,
   "id": "6b782e22",
   "metadata": {},
   "outputs": [
    {
     "data": {
      "text/plain": [
       "'Last 10 crypto status in crypto market'"
      ]
     },
     "execution_count": 84,
     "metadata": {},
     "output_type": "execute_result"
    }
   ],
   "source": [
    "df_rank_name_10 = df_rank_name.std().head(10)\n",
    "\"\"\"Last 10 crypto status in crypto market\"\"\""
   ]
  },
  {
   "cell_type": "markdown",
   "id": "424300a4",
   "metadata": {},
   "source": [
    "#### Finding yearly breakdown of Crypto market"
   ]
  },
  {
   "cell_type": "code",
   "execution_count": 105,
   "id": "328b97ee",
   "metadata": {},
   "outputs": [],
   "source": [
    "#yearly_breakdown = ['date','market', 'spread']\n",
    "#df_date_year  = df_cr[yearly_breakdown]\n",
    "#df_date_year['year'] = df_cr.date.str.slice(0,4).astype(int)\n",
    "\n",
    "df_cr['date'] = pd.to_datetime(df_cr['date'])\n",
    "df_cr['year'] = df_cr['date'].dt.year\n",
    "df_cr['month'] = df_cr['date'].dt.month\n",
    "\n",
    "yearly_breakdown = ['date','market', 'spread','year']\n",
    "df_date_year  = df_cr[yearly_breakdown]\n"
   ]
  },
  {
   "cell_type": "code",
   "execution_count": 106,
   "id": "acd38b22",
   "metadata": {},
   "outputs": [
    {
     "data": {
      "text/html": [
       "<div>\n",
       "<style scoped>\n",
       "    .dataframe tbody tr th:only-of-type {\n",
       "        vertical-align: middle;\n",
       "    }\n",
       "\n",
       "    .dataframe tbody tr th {\n",
       "        vertical-align: top;\n",
       "    }\n",
       "\n",
       "    .dataframe thead th {\n",
       "        text-align: right;\n",
       "    }\n",
       "</style>\n",
       "<table border=\"1\" class=\"dataframe\">\n",
       "  <thead>\n",
       "    <tr style=\"text-align: right;\">\n",
       "      <th></th>\n",
       "      <th>date</th>\n",
       "      <th>market</th>\n",
       "      <th>spread</th>\n",
       "      <th>year</th>\n",
       "    </tr>\n",
       "  </thead>\n",
       "  <tbody>\n",
       "    <tr>\n",
       "      <th>0</th>\n",
       "      <td>2013-04-28</td>\n",
       "      <td>1.488567e+09</td>\n",
       "      <td>3.88</td>\n",
       "      <td>2013</td>\n",
       "    </tr>\n",
       "    <tr>\n",
       "      <th>1</th>\n",
       "      <td>2013-04-29</td>\n",
       "      <td>1.603769e+09</td>\n",
       "      <td>13.49</td>\n",
       "      <td>2013</td>\n",
       "    </tr>\n",
       "    <tr>\n",
       "      <th>2</th>\n",
       "      <td>2013-04-30</td>\n",
       "      <td>1.542813e+09</td>\n",
       "      <td>12.88</td>\n",
       "      <td>2013</td>\n",
       "    </tr>\n",
       "    <tr>\n",
       "      <th>3</th>\n",
       "      <td>2013-05-01</td>\n",
       "      <td>1.298955e+09</td>\n",
       "      <td>32.17</td>\n",
       "      <td>2013</td>\n",
       "    </tr>\n",
       "    <tr>\n",
       "      <th>4</th>\n",
       "      <td>2013-05-02</td>\n",
       "      <td>1.168517e+09</td>\n",
       "      <td>33.32</td>\n",
       "      <td>2013</td>\n",
       "    </tr>\n",
       "    <tr>\n",
       "      <th>...</th>\n",
       "      <td>...</td>\n",
       "      <td>...</td>\n",
       "      <td>...</td>\n",
       "      <td>...</td>\n",
       "    </tr>\n",
       "    <tr>\n",
       "      <th>942292</th>\n",
       "      <td>2018-11-26</td>\n",
       "      <td>1.622000e+03</td>\n",
       "      <td>5441.80</td>\n",
       "      <td>2018</td>\n",
       "    </tr>\n",
       "    <tr>\n",
       "      <th>942293</th>\n",
       "      <td>2018-11-27</td>\n",
       "      <td>1.823000e+03</td>\n",
       "      <td>4449.20</td>\n",
       "      <td>2018</td>\n",
       "    </tr>\n",
       "    <tr>\n",
       "      <th>942294</th>\n",
       "      <td>2018-11-28</td>\n",
       "      <td>1.913000e+03</td>\n",
       "      <td>5347.00</td>\n",
       "      <td>2018</td>\n",
       "    </tr>\n",
       "    <tr>\n",
       "      <th>942295</th>\n",
       "      <td>2018-11-29</td>\n",
       "      <td>1.788000e+03</td>\n",
       "      <td>3124.52</td>\n",
       "      <td>2018</td>\n",
       "    </tr>\n",
       "    <tr>\n",
       "      <th>942296</th>\n",
       "      <td>2018-11-30</td>\n",
       "      <td>1.654000e+03</td>\n",
       "      <td>4046.07</td>\n",
       "      <td>2018</td>\n",
       "    </tr>\n",
       "  </tbody>\n",
       "</table>\n",
       "<p>942297 rows × 4 columns</p>\n",
       "</div>"
      ],
      "text/plain": [
       "             date        market   spread  year\n",
       "0      2013-04-28  1.488567e+09     3.88  2013\n",
       "1      2013-04-29  1.603769e+09    13.49  2013\n",
       "2      2013-04-30  1.542813e+09    12.88  2013\n",
       "3      2013-05-01  1.298955e+09    32.17  2013\n",
       "4      2013-05-02  1.168517e+09    33.32  2013\n",
       "...           ...           ...      ...   ...\n",
       "942292 2018-11-26  1.622000e+03  5441.80  2018\n",
       "942293 2018-11-27  1.823000e+03  4449.20  2018\n",
       "942294 2018-11-28  1.913000e+03  5347.00  2018\n",
       "942295 2018-11-29  1.788000e+03  3124.52  2018\n",
       "942296 2018-11-30  1.654000e+03  4046.07  2018\n",
       "\n",
       "[942297 rows x 4 columns]"
      ]
     },
     "execution_count": 106,
     "metadata": {},
     "output_type": "execute_result"
    }
   ],
   "source": [
    "df_date_year"
   ]
  },
  {
   "cell_type": "code",
   "execution_count": 87,
   "id": "3676e3bf",
   "metadata": {},
   "outputs": [],
   "source": [
    "df_yearly_breakdown = df_date_year.groupby(by=['year'])"
   ]
  },
  {
   "cell_type": "code",
   "execution_count": 88,
   "id": "9a3903b1",
   "metadata": {},
   "outputs": [],
   "source": [
    "df_yearly_breakdown_max = df_yearly_breakdown.max()"
   ]
  },
  {
   "cell_type": "code",
   "execution_count": 89,
   "id": "b86d49e8",
   "metadata": {},
   "outputs": [
    {
     "data": {
      "text/html": [
       "<div>\n",
       "<style scoped>\n",
       "    .dataframe tbody tr th:only-of-type {\n",
       "        vertical-align: middle;\n",
       "    }\n",
       "\n",
       "    .dataframe tbody tr th {\n",
       "        vertical-align: top;\n",
       "    }\n",
       "\n",
       "    .dataframe thead th {\n",
       "        text-align: right;\n",
       "    }\n",
       "</style>\n",
       "<table border=\"1\" class=\"dataframe\">\n",
       "  <thead>\n",
       "    <tr style=\"text-align: right;\">\n",
       "      <th></th>\n",
       "      <th>date</th>\n",
       "      <th>market</th>\n",
       "      <th>spread</th>\n",
       "    </tr>\n",
       "    <tr>\n",
       "      <th>year</th>\n",
       "      <th></th>\n",
       "      <th></th>\n",
       "      <th></th>\n",
       "    </tr>\n",
       "  </thead>\n",
       "  <tbody>\n",
       "    <tr>\n",
       "      <th>2013</th>\n",
       "      <td>2013-04-28</td>\n",
       "      <td>337.0</td>\n",
       "      <td>0.0</td>\n",
       "    </tr>\n",
       "    <tr>\n",
       "      <th>2014</th>\n",
       "      <td>2014-01-01</td>\n",
       "      <td>0.0</td>\n",
       "      <td>0.0</td>\n",
       "    </tr>\n",
       "    <tr>\n",
       "      <th>2015</th>\n",
       "      <td>2015-01-01</td>\n",
       "      <td>0.0</td>\n",
       "      <td>0.0</td>\n",
       "    </tr>\n",
       "    <tr>\n",
       "      <th>2016</th>\n",
       "      <td>2016-01-01</td>\n",
       "      <td>0.0</td>\n",
       "      <td>0.0</td>\n",
       "    </tr>\n",
       "    <tr>\n",
       "      <th>2017</th>\n",
       "      <td>2017-01-01</td>\n",
       "      <td>0.0</td>\n",
       "      <td>0.0</td>\n",
       "    </tr>\n",
       "    <tr>\n",
       "      <th>2018</th>\n",
       "      <td>2018-01-01</td>\n",
       "      <td>0.0</td>\n",
       "      <td>0.0</td>\n",
       "    </tr>\n",
       "  </tbody>\n",
       "</table>\n",
       "</div>"
      ],
      "text/plain": [
       "            date  market  spread\n",
       "year                            \n",
       "2013  2013-04-28   337.0     0.0\n",
       "2014  2014-01-01     0.0     0.0\n",
       "2015  2015-01-01     0.0     0.0\n",
       "2016  2016-01-01     0.0     0.0\n",
       "2017  2017-01-01     0.0     0.0\n",
       "2018  2018-01-01     0.0     0.0"
      ]
     },
     "execution_count": 89,
     "metadata": {},
     "output_type": "execute_result"
    }
   ],
   "source": [
    "df_yearly_breakdown_min = df_yearly_breakdown.min()\n",
    "df_yearly_breakdown_min"
   ]
  },
  {
   "cell_type": "code",
   "execution_count": 90,
   "id": "e64084a2",
   "metadata": {},
   "outputs": [],
   "source": [
    "df_yearly_breakdown_med = df_yearly_breakdown.median()"
   ]
  },
  {
   "cell_type": "markdown",
   "id": "d5163700",
   "metadata": {},
   "source": [
    "#### Bitcoin analysis"
   ]
  },
  {
   "cell_type": "code",
   "execution_count": 91,
   "id": "6a3567f5",
   "metadata": {},
   "outputs": [],
   "source": [
    "\n",
    "df_year  = df_cr.copy()\n",
    "df_year['year'] = df_cr.date.str.slice(0,4).astype(int)"
   ]
  },
  {
   "cell_type": "code",
   "execution_count": 92,
   "id": "5270f48c",
   "metadata": {},
   "outputs": [],
   "source": [
    "df_bitcoin = df_year[df_year['symbol'] == 'BTC']\n",
    "df_bitcoin = df_bitcoin.iloc[:,5:]"
   ]
  },
  {
   "cell_type": "code",
   "execution_count": 93,
   "id": "aa32c7db",
   "metadata": {},
   "outputs": [
    {
     "data": {
      "text/html": [
       "<div>\n",
       "<style scoped>\n",
       "    .dataframe tbody tr th:only-of-type {\n",
       "        vertical-align: middle;\n",
       "    }\n",
       "\n",
       "    .dataframe tbody tr th {\n",
       "        vertical-align: top;\n",
       "    }\n",
       "\n",
       "    .dataframe thead th {\n",
       "        text-align: right;\n",
       "    }\n",
       "</style>\n",
       "<table border=\"1\" class=\"dataframe\">\n",
       "  <thead>\n",
       "    <tr style=\"text-align: right;\">\n",
       "      <th></th>\n",
       "      <th>open</th>\n",
       "      <th>high</th>\n",
       "      <th>low</th>\n",
       "      <th>close</th>\n",
       "      <th>volume</th>\n",
       "      <th>market</th>\n",
       "      <th>close_ratio</th>\n",
       "      <th>spread</th>\n",
       "    </tr>\n",
       "    <tr>\n",
       "      <th>year</th>\n",
       "      <th></th>\n",
       "      <th></th>\n",
       "      <th></th>\n",
       "      <th></th>\n",
       "      <th></th>\n",
       "      <th></th>\n",
       "      <th></th>\n",
       "      <th></th>\n",
       "    </tr>\n",
       "  </thead>\n",
       "  <tbody>\n",
       "    <tr>\n",
       "      <th>2013</th>\n",
       "      <td>1152.73</td>\n",
       "      <td>1156.14</td>\n",
       "      <td>1106.61</td>\n",
       "      <td>1151.17</td>\n",
       "      <td>4.686270e+07</td>\n",
       "      <td>1.390343e+10</td>\n",
       "      <td>1.0</td>\n",
       "      <td>349.72</td>\n",
       "    </tr>\n",
       "    <tr>\n",
       "      <th>2014</th>\n",
       "      <td>946.49</td>\n",
       "      <td>1017.12</td>\n",
       "      <td>905.71</td>\n",
       "      <td>953.29</td>\n",
       "      <td>1.263140e+08</td>\n",
       "      <td>1.162053e+10</td>\n",
       "      <td>1.0</td>\n",
       "      <td>163.74</td>\n",
       "    </tr>\n",
       "    <tr>\n",
       "      <th>2015</th>\n",
       "      <td>465.21</td>\n",
       "      <td>495.56</td>\n",
       "      <td>456.77</td>\n",
       "      <td>465.32</td>\n",
       "      <td>2.639000e+08</td>\n",
       "      <td>6.963785e+09</td>\n",
       "      <td>1.0</td>\n",
       "      <td>115.01</td>\n",
       "    </tr>\n",
       "    <tr>\n",
       "      <th>2016</th>\n",
       "      <td>975.13</td>\n",
       "      <td>979.40</td>\n",
       "      <td>954.50</td>\n",
       "      <td>975.92</td>\n",
       "      <td>3.633210e+08</td>\n",
       "      <td>1.568277e+10</td>\n",
       "      <td>1.0</td>\n",
       "      <td>96.81</td>\n",
       "    </tr>\n",
       "    <tr>\n",
       "      <th>2017</th>\n",
       "      <td>19475.80</td>\n",
       "      <td>20089.00</td>\n",
       "      <td>18974.10</td>\n",
       "      <td>19497.40</td>\n",
       "      <td>2.219800e+10</td>\n",
       "      <td>3.265025e+11</td>\n",
       "      <td>1.0</td>\n",
       "      <td>4110.40</td>\n",
       "    </tr>\n",
       "    <tr>\n",
       "      <th>2018</th>\n",
       "      <td>17527.30</td>\n",
       "      <td>17712.40</td>\n",
       "      <td>16764.60</td>\n",
       "      <td>17527.00</td>\n",
       "      <td>2.384090e+10</td>\n",
       "      <td>2.942174e+11</td>\n",
       "      <td>1.0</td>\n",
       "      <td>3648.20</td>\n",
       "    </tr>\n",
       "  </tbody>\n",
       "</table>\n",
       "</div>"
      ],
      "text/plain": [
       "          open      high       low     close        volume        market  \\\n",
       "year                                                                       \n",
       "2013   1152.73   1156.14   1106.61   1151.17  4.686270e+07  1.390343e+10   \n",
       "2014    946.49   1017.12    905.71    953.29  1.263140e+08  1.162053e+10   \n",
       "2015    465.21    495.56    456.77    465.32  2.639000e+08  6.963785e+09   \n",
       "2016    975.13    979.40    954.50    975.92  3.633210e+08  1.568277e+10   \n",
       "2017  19475.80  20089.00  18974.10  19497.40  2.219800e+10  3.265025e+11   \n",
       "2018  17527.30  17712.40  16764.60  17527.00  2.384090e+10  2.942174e+11   \n",
       "\n",
       "      close_ratio   spread  \n",
       "year                        \n",
       "2013          1.0   349.72  \n",
       "2014          1.0   163.74  \n",
       "2015          1.0   115.01  \n",
       "2016          1.0    96.81  \n",
       "2017          1.0  4110.40  \n",
       "2018          1.0  3648.20  "
      ]
     },
     "execution_count": 93,
     "metadata": {},
     "output_type": "execute_result"
    }
   ],
   "source": [
    "df_btc_yearly_breakdown = df_bitcoin.groupby(by=['year'])\n",
    "df_btc_yearly_breakdown.max()"
   ]
  },
  {
   "cell_type": "code",
   "execution_count": 94,
   "id": "73abccbe",
   "metadata": {},
   "outputs": [
    {
     "data": {
      "text/html": [
       "<div>\n",
       "<style scoped>\n",
       "    .dataframe tbody tr th:only-of-type {\n",
       "        vertical-align: middle;\n",
       "    }\n",
       "\n",
       "    .dataframe tbody tr th {\n",
       "        vertical-align: top;\n",
       "    }\n",
       "\n",
       "    .dataframe thead th {\n",
       "        text-align: right;\n",
       "    }\n",
       "</style>\n",
       "<table border=\"1\" class=\"dataframe\">\n",
       "  <thead>\n",
       "    <tr style=\"text-align: right;\">\n",
       "      <th></th>\n",
       "      <th>open</th>\n",
       "      <th>high</th>\n",
       "      <th>low</th>\n",
       "      <th>close</th>\n",
       "      <th>volume</th>\n",
       "      <th>market</th>\n",
       "      <th>close_ratio</th>\n",
       "      <th>spread</th>\n",
       "    </tr>\n",
       "    <tr>\n",
       "      <th>year</th>\n",
       "      <th></th>\n",
       "      <th></th>\n",
       "      <th></th>\n",
       "      <th></th>\n",
       "      <th></th>\n",
       "      <th></th>\n",
       "      <th></th>\n",
       "      <th></th>\n",
       "    </tr>\n",
       "  </thead>\n",
       "  <tbody>\n",
       "    <tr>\n",
       "      <th>2013</th>\n",
       "      <td>68.50</td>\n",
       "      <td>74.56</td>\n",
       "      <td>65.53</td>\n",
       "      <td>68.43</td>\n",
       "      <td>0.000000e+00</td>\n",
       "      <td>7.784112e+08</td>\n",
       "      <td>0.0</td>\n",
       "      <td>0.00</td>\n",
       "    </tr>\n",
       "    <tr>\n",
       "      <th>2014</th>\n",
       "      <td>310.91</td>\n",
       "      <td>314.81</td>\n",
       "      <td>289.30</td>\n",
       "      <td>310.74</td>\n",
       "      <td>2.857830e+06</td>\n",
       "      <td>4.241891e+09</td>\n",
       "      <td>0.0</td>\n",
       "      <td>3.02</td>\n",
       "    </tr>\n",
       "    <tr>\n",
       "      <th>2015</th>\n",
       "      <td>176.90</td>\n",
       "      <td>211.73</td>\n",
       "      <td>171.51</td>\n",
       "      <td>178.10</td>\n",
       "      <td>7.860650e+06</td>\n",
       "      <td>2.444379e+09</td>\n",
       "      <td>0.0</td>\n",
       "      <td>1.03</td>\n",
       "    </tr>\n",
       "    <tr>\n",
       "      <th>2016</th>\n",
       "      <td>365.07</td>\n",
       "      <td>374.95</td>\n",
       "      <td>354.91</td>\n",
       "      <td>364.33</td>\n",
       "      <td>2.851400e+07</td>\n",
       "      <td>5.496598e+09</td>\n",
       "      <td>0.0</td>\n",
       "      <td>1.46</td>\n",
       "    </tr>\n",
       "    <tr>\n",
       "      <th>2017</th>\n",
       "      <td>775.18</td>\n",
       "      <td>823.31</td>\n",
       "      <td>755.76</td>\n",
       "      <td>777.76</td>\n",
       "      <td>6.085170e+07</td>\n",
       "      <td>1.251914e+10</td>\n",
       "      <td>0.0</td>\n",
       "      <td>3.58</td>\n",
       "    </tr>\n",
       "    <tr>\n",
       "      <th>2018</th>\n",
       "      <td>3765.95</td>\n",
       "      <td>3862.96</td>\n",
       "      <td>3585.06</td>\n",
       "      <td>3779.13</td>\n",
       "      <td>2.923670e+09</td>\n",
       "      <td>6.573929e+10</td>\n",
       "      <td>0.0</td>\n",
       "      <td>32.28</td>\n",
       "    </tr>\n",
       "  </tbody>\n",
       "</table>\n",
       "</div>"
      ],
      "text/plain": [
       "         open     high      low    close        volume        market  \\\n",
       "year                                                                   \n",
       "2013    68.50    74.56    65.53    68.43  0.000000e+00  7.784112e+08   \n",
       "2014   310.91   314.81   289.30   310.74  2.857830e+06  4.241891e+09   \n",
       "2015   176.90   211.73   171.51   178.10  7.860650e+06  2.444379e+09   \n",
       "2016   365.07   374.95   354.91   364.33  2.851400e+07  5.496598e+09   \n",
       "2017   775.18   823.31   755.76   777.76  6.085170e+07  1.251914e+10   \n",
       "2018  3765.95  3862.96  3585.06  3779.13  2.923670e+09  6.573929e+10   \n",
       "\n",
       "      close_ratio  spread  \n",
       "year                       \n",
       "2013          0.0    0.00  \n",
       "2014          0.0    3.02  \n",
       "2015          0.0    1.03  \n",
       "2016          0.0    1.46  \n",
       "2017          0.0    3.58  \n",
       "2018          0.0   32.28  "
      ]
     },
     "execution_count": 94,
     "metadata": {},
     "output_type": "execute_result"
    }
   ],
   "source": [
    "df_btc_yearly_breakdown.min()"
   ]
  },
  {
   "cell_type": "code",
   "execution_count": 95,
   "id": "9993ac42",
   "metadata": {},
   "outputs": [
    {
     "data": {
      "text/html": [
       "<div>\n",
       "<style scoped>\n",
       "    .dataframe tbody tr th:only-of-type {\n",
       "        vertical-align: middle;\n",
       "    }\n",
       "\n",
       "    .dataframe tbody tr th {\n",
       "        vertical-align: top;\n",
       "    }\n",
       "\n",
       "    .dataframe thead th {\n",
       "        text-align: right;\n",
       "    }\n",
       "</style>\n",
       "<table border=\"1\" class=\"dataframe\">\n",
       "  <thead>\n",
       "    <tr style=\"text-align: right;\">\n",
       "      <th></th>\n",
       "      <th>open</th>\n",
       "      <th>high</th>\n",
       "      <th>low</th>\n",
       "      <th>close</th>\n",
       "      <th>volume</th>\n",
       "      <th>market</th>\n",
       "      <th>close_ratio</th>\n",
       "      <th>spread</th>\n",
       "    </tr>\n",
       "    <tr>\n",
       "      <th>year</th>\n",
       "      <th></th>\n",
       "      <th></th>\n",
       "      <th></th>\n",
       "      <th></th>\n",
       "      <th></th>\n",
       "      <th></th>\n",
       "      <th></th>\n",
       "      <th></th>\n",
       "    </tr>\n",
       "  </thead>\n",
       "  <tbody>\n",
       "    <tr>\n",
       "      <th>2013</th>\n",
       "      <td>127.11</td>\n",
       "      <td>129.995</td>\n",
       "      <td>124.705</td>\n",
       "      <td>127.075</td>\n",
       "      <td>0.000000e+00</td>\n",
       "      <td>1.475489e+09</td>\n",
       "      <td>0.59635</td>\n",
       "      <td>7.375</td>\n",
       "    </tr>\n",
       "    <tr>\n",
       "      <th>2014</th>\n",
       "      <td>502.90</td>\n",
       "      <td>516.160</td>\n",
       "      <td>489.730</td>\n",
       "      <td>502.500</td>\n",
       "      <td>1.889870e+07</td>\n",
       "      <td>6.564529e+09</td>\n",
       "      <td>0.45050</td>\n",
       "      <td>17.750</td>\n",
       "    </tr>\n",
       "    <tr>\n",
       "      <th>2015</th>\n",
       "      <td>248.72</td>\n",
       "      <td>254.690</td>\n",
       "      <td>244.130</td>\n",
       "      <td>249.010</td>\n",
       "      <td>2.478250e+07</td>\n",
       "      <td>3.557986e+09</td>\n",
       "      <td>0.57440</td>\n",
       "      <td>7.590</td>\n",
       "    </tr>\n",
       "    <tr>\n",
       "      <th>2016</th>\n",
       "      <td>582.07</td>\n",
       "      <td>588.960</td>\n",
       "      <td>575.315</td>\n",
       "      <td>582.555</td>\n",
       "      <td>7.076340e+07</td>\n",
       "      <td>9.201876e+09</td>\n",
       "      <td>0.60775</td>\n",
       "      <td>8.360</td>\n",
       "    </tr>\n",
       "    <tr>\n",
       "      <th>2017</th>\n",
       "      <td>2577.77</td>\n",
       "      <td>2682.260</td>\n",
       "      <td>2510.480</td>\n",
       "      <td>2589.410</td>\n",
       "      <td>1.182870e+09</td>\n",
       "      <td>4.247073e+10</td>\n",
       "      <td>0.63160</td>\n",
       "      <td>155.110</td>\n",
       "    </tr>\n",
       "    <tr>\n",
       "      <th>2018</th>\n",
       "      <td>7263.00</td>\n",
       "      <td>7419.050</td>\n",
       "      <td>6984.070</td>\n",
       "      <td>7193.250</td>\n",
       "      <td>5.014430e+09</td>\n",
       "      <td>1.240446e+11</td>\n",
       "      <td>0.50780</td>\n",
       "      <td>318.160</td>\n",
       "    </tr>\n",
       "  </tbody>\n",
       "</table>\n",
       "</div>"
      ],
      "text/plain": [
       "         open      high       low     close        volume        market  \\\n",
       "year                                                                      \n",
       "2013   127.11   129.995   124.705   127.075  0.000000e+00  1.475489e+09   \n",
       "2014   502.90   516.160   489.730   502.500  1.889870e+07  6.564529e+09   \n",
       "2015   248.72   254.690   244.130   249.010  2.478250e+07  3.557986e+09   \n",
       "2016   582.07   588.960   575.315   582.555  7.076340e+07  9.201876e+09   \n",
       "2017  2577.77  2682.260  2510.480  2589.410  1.182870e+09  4.247073e+10   \n",
       "2018  7263.00  7419.050  6984.070  7193.250  5.014430e+09  1.240446e+11   \n",
       "\n",
       "      close_ratio   spread  \n",
       "year                        \n",
       "2013      0.59635    7.375  \n",
       "2014      0.45050   17.750  \n",
       "2015      0.57440    7.590  \n",
       "2016      0.60775    8.360  \n",
       "2017      0.63160  155.110  \n",
       "2018      0.50780  318.160  "
      ]
     },
     "execution_count": 95,
     "metadata": {},
     "output_type": "execute_result"
    }
   ],
   "source": [
    "df_btc_yearly_breakdown_med = df_btc_yearly_breakdown.median()\n",
    "df_btc_yearly_breakdown_med\n",
    "#df_btc_yearly_breakdown.median()"
   ]
  },
  {
   "cell_type": "code",
   "execution_count": 96,
   "id": "f42a21eb",
   "metadata": {},
   "outputs": [],
   "source": [
    "df_btc_yearly_breakdown_std = df_btc_yearly_breakdown.std()"
   ]
  },
  {
   "cell_type": "markdown",
   "id": "9edbe175",
   "metadata": {},
   "source": [
    "### Data Insights\n",
    "\n",
    "- This dataset contains 6 years crypto data from 2013 to 2018\n",
    "- Total 2070 unique rows\n",
    "- total rows:942297 and total column:13 \n",
    "    - here we have created one new column named 'year' \n",
    "-All special charecter removed.\n",
    "\n",
    "This dataset about 6 year crypto data market, thats represnts every crypto's business area and market value. Its provides the openning , closing, highest, lowest along with the market value for every days."
   ]
  },
  {
   "cell_type": "markdown",
   "id": "ae3587db",
   "metadata": {},
   "source": [
    "## Hypothesis: The crypto market spread its area and volume in world economy as time goes on.\n",
    "In our anlysis we will try to find the status as per the data, wheather its increases the volume or not. As well as we would like to find the market status of top 10 ranked crypto coins. Finally we would like to compare among top 10 and last 10 crypto coin to undertand the diferences."
   ]
  },
  {
   "cell_type": "markdown",
   "id": "156da888",
   "metadata": {},
   "source": [
    "## Data visualisation as per the finding the hypothesis answer"
   ]
  },
  {
   "cell_type": "code",
   "execution_count": 97,
   "id": "3669c3d2",
   "metadata": {},
   "outputs": [
    {
     "data": {
      "text/plain": [
       "<seaborn.axisgrid.FacetGrid at 0x7f14d36091c0>"
      ]
     },
     "execution_count": 97,
     "metadata": {},
     "output_type": "execute_result"
    },
    {
     "data": {
      "image/png": "[encoded data removed]",
      "text/plain": [
       "<Figure size 360x360 with 1 Axes>"
      ]
     },
     "metadata": {
      "needs_background": "light"
     },
     "output_type": "display_data"
    }
   ],
   "source": [
    "#df_yearly_breakdown.hist()\n",
    "sns.relplot(data=df_yearly_breakdown_min, x='year', y='market', kind='line')"
   ]
  },
  {
   "cell_type": "code",
   "execution_count": 98,
   "id": "b799ddc5",
   "metadata": {},
   "outputs": [
    {
     "data": {
      "text/plain": [
       "<seaborn.axisgrid.FacetGrid at 0x7f14ce1c0fa0>"
      ]
     },
     "execution_count": 98,
     "metadata": {},
     "output_type": "execute_result"
    },
    {
     "data": {
      "image/png": "[encoded data removed]",
      "text/plain": [
       "<Figure size 360x360 with 1 Axes>"
      ]
     },
     "metadata": {
      "needs_background": "light"
     },
     "output_type": "display_data"
    }
   ],
   "source": [
    "sns.relplot(data = df_yearly_breakdown_max, x= 'year', y= 'market', kind = 'line')"
   ]
  },
  {
   "cell_type": "code",
   "execution_count": 99,
   "id": "9898ed27",
   "metadata": {},
   "outputs": [
    {
     "data": {
      "text/plain": [
       "<seaborn.axisgrid.FacetGrid at 0x7f14d4d7cfa0>"
      ]
     },
     "execution_count": 99,
     "metadata": {},
     "output_type": "execute_result"
    },
    {
     "data": {
      "image/png": "[encoded data removed]",
      "text/plain": [
       "<Figure size 360x360 with 1 Axes>"
      ]
     },
     "metadata": {
      "needs_background": "light"
     },
     "output_type": "display_data"
    }
   ],
   "source": [
    "sns.relplot(data = df_yearly_breakdown_med, x= 'year', y= 'market', kind = 'line')"
   ]
  },
  {
   "cell_type": "code",
   "execution_count": 100,
   "id": "50510d67",
   "metadata": {},
   "outputs": [
    {
     "data": {
      "text/plain": [
       "<seaborn.axisgrid.FacetGrid at 0x7f14da007df0>"
      ]
     },
     "execution_count": 100,
     "metadata": {},
     "output_type": "execute_result"
    },
    {
     "data": {
      "image/png": "[encoded data removed]",
      "text/plain": [
       "<Figure size 360x360 with 1 Axes>"
      ]
     },
     "metadata": {
      "needs_background": "light"
     },
     "output_type": "display_data"
    }
   ],
   "source": [
    "sns.relplot(data = df_btc_yearly_breakdown_med, x= 'year', y ='market', kind= 'line')"
   ]
  },
  {
   "cell_type": "code",
   "execution_count": 101,
   "id": "28d3a255",
   "metadata": {},
   "outputs": [
    {
     "data": {
      "text/plain": [
       "<seaborn.axisgrid.FacetGrid at 0x7f14d3426160>"
      ]
     },
     "execution_count": 101,
     "metadata": {},
     "output_type": "execute_result"
    },
    {
     "data": {
      "image/png": "[encoded data removed]",
      "text/plain": [
       "<Figure size 360x360 with 1 Axes>"
      ]
     },
     "metadata": {
      "needs_background": "light"
     },
     "output_type": "display_data"
    }
   ],
   "source": [
    "sns.relplot(data = df_btc_yearly_breakdown_med, x= 'year', y ='close_ratio', kind= 'line')"
   ]
  },
  {
   "cell_type": "code",
   "execution_count": null,
   "id": "cce0f508",
   "metadata": {},
   "outputs": [],
   "source": []
  }
 ],
 "metadata": {
  "kernelspec": {
   "display_name": "Python 3 (ipykernel)",
   "language": "python",
   "name": "python3"
  },
  "language_info": {
   "codemirror_mode": {
    "name": "ipython",
    "version": 3
   },
   "file_extension": ".py",
   "mimetype": "text/x-python",
   "name": "python",
   "nbconvert_exporter": "python",
   "pygments_lexer": "ipython3",
   "version": "3.9.7"
  },
  "toc": {
   "base_numbering": 1,
   "nav_menu": {},
   "number_sections": true,
   "sideBar": true,
   "skip_h1_title": false,
   "title_cell": "Table of Contents",
   "title_sidebar": "Contents",
   "toc_cell": false,
   "toc_position": {},
   "toc_section_display": true,
   "toc_window_display": false
  },
  "varInspector": {
   "cols": {
    "lenName": 16,
    "lenType": 16,
    "lenVar": 40
   },
   "kernels_config": {
    "python": {
     "delete_cmd_postfix": "",
     "delete_cmd_prefix": "del ",
     "library": "var_list.py",
     "varRefreshCmd": "print(var_dic_list())"
    },
    "r": {
     "delete_cmd_postfix": ") ",
     "delete_cmd_prefix": "rm(",
     "library": "var_list.r",
     "varRefreshCmd": "cat(var_dic_list()) "
    }
   },
   "types_to_exclude": [
    "module",
    "function",
    "builtin_function_or_method",
    "instance",
    "_Feature"
   ],
   "window_display": false
  }
 },
 "nbformat": 4,
 "nbformat_minor": 5
}
