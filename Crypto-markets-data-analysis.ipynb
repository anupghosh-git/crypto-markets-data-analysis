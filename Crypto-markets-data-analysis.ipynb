{
 "cells": [
  {
   "cell_type": "markdown",
   "id": "4c035253",
   "metadata": {},
   "source": [
    "# Crypto Markets Data Analysis\n",
    "\n",
    "Analyzing data of crypto markets data\n",
    "- Data Cleaning\n",
    "- Data Filtering\n",
    "- Finding the insights of dataset\n",
    "- Set Hypothesis based on the dataset\n",
    "- Presenting the data as per the finding the answer of the hypothesis"
   ]
  },
  {
   "cell_type": "code",
   "execution_count": 2,
   "id": "9b194a23",
   "metadata": {},
   "outputs": [],
   "source": [
    "import numpy as np\n",
    "import pandas as pd\n",
    "import matplotlib as plt\n",
    "import seaborn as sns"
   ]
  },
  {
   "cell_type": "code",
   "execution_count": 3,
   "id": "a9b7e3f0",
   "metadata": {},
   "outputs": [],
   "source": [
    "df_cr = pd.read_csv(\"crypto-markets.csv\")"
   ]
  },
  {
   "cell_type": "code",
   "execution_count": 4,
   "id": "74246e06",
   "metadata": {},
   "outputs": [
    {
     "name": "stdout",
     "output_type": "stream",
     "text": [
      "<class 'pandas.core.frame.DataFrame'>\n",
      "RangeIndex: 942297 entries, 0 to 942296\n",
      "Data columns (total 13 columns):\n",
      " #   Column       Non-Null Count   Dtype  \n",
      "---  ------       --------------   -----  \n",
      " 0   slug         942297 non-null  object \n",
      " 1   symbol       942297 non-null  object \n",
      " 2   name         942297 non-null  object \n",
      " 3   date         942297 non-null  object \n",
      " 4   ranknow      942297 non-null  int64  \n",
      " 5   open         942297 non-null  float64\n",
      " 6   high         942297 non-null  float64\n",
      " 7   low          942297 non-null  float64\n",
      " 8   close        942297 non-null  float64\n",
      " 9   volume       942297 non-null  float64\n",
      " 10  market       942297 non-null  float64\n",
      " 11  close_ratio  942297 non-null  float64\n",
      " 12  spread       942297 non-null  float64\n",
      "dtypes: float64(8), int64(1), object(4)\n",
      "memory usage: 93.5+ MB\n"
     ]
    }
   ],
   "source": [
    "df_cr.info()"
   ]
  },
  {
   "cell_type": "code",
   "execution_count": 5,
   "id": "a405e6a6",
   "metadata": {},
   "outputs": [
    {
     "data": {
      "text/html": [
       "<div>\n",
       "<style scoped>\n",
       "    .dataframe tbody tr th:only-of-type {\n",
       "        vertical-align: middle;\n",
       "    }\n",
       "\n",
       "    .dataframe tbody tr th {\n",
       "        vertical-align: top;\n",
       "    }\n",
       "\n",
       "    .dataframe thead th {\n",
       "        text-align: right;\n",
       "    }\n",
       "</style>\n",
       "<table border=\"1\" class=\"dataframe\">\n",
       "  <thead>\n",
       "    <tr style=\"text-align: right;\">\n",
       "      <th></th>\n",
       "      <th>count</th>\n",
       "      <th>mean</th>\n",
       "      <th>std</th>\n",
       "      <th>min</th>\n",
       "      <th>25%</th>\n",
       "      <th>50%</th>\n",
       "      <th>75%</th>\n",
       "      <th>max</th>\n",
       "    </tr>\n",
       "  </thead>\n",
       "  <tbody>\n",
       "    <tr>\n",
       "      <th>ranknow</th>\n",
       "      <td>942297.0</td>\n",
       "      <td>1.000171e+03</td>\n",
       "      <td>5.875753e+02</td>\n",
       "      <td>1.000000e+00</td>\n",
       "      <td>465.000000</td>\n",
       "      <td>1072.000000</td>\n",
       "      <td>1.484000e+03</td>\n",
       "      <td>2.072000e+03</td>\n",
       "    </tr>\n",
       "    <tr>\n",
       "      <th>open</th>\n",
       "      <td>942297.0</td>\n",
       "      <td>3.483522e+02</td>\n",
       "      <td>1.318436e+04</td>\n",
       "      <td>2.500000e-09</td>\n",
       "      <td>0.002321</td>\n",
       "      <td>0.023983</td>\n",
       "      <td>2.268600e-01</td>\n",
       "      <td>2.298390e+06</td>\n",
       "    </tr>\n",
       "    <tr>\n",
       "      <th>high</th>\n",
       "      <td>942297.0</td>\n",
       "      <td>4.085930e+02</td>\n",
       "      <td>1.616386e+04</td>\n",
       "      <td>3.200000e-09</td>\n",
       "      <td>0.002628</td>\n",
       "      <td>0.026802</td>\n",
       "      <td>2.508940e-01</td>\n",
       "      <td>2.926100e+06</td>\n",
       "    </tr>\n",
       "    <tr>\n",
       "      <th>low</th>\n",
       "      <td>942297.0</td>\n",
       "      <td>2.962526e+02</td>\n",
       "      <td>1.092931e+04</td>\n",
       "      <td>2.500000e-10</td>\n",
       "      <td>0.002044</td>\n",
       "      <td>0.021437</td>\n",
       "      <td>2.043910e-01</td>\n",
       "      <td>2.030590e+06</td>\n",
       "    </tr>\n",
       "    <tr>\n",
       "      <th>close</th>\n",
       "      <td>942297.0</td>\n",
       "      <td>3.461018e+02</td>\n",
       "      <td>1.309822e+04</td>\n",
       "      <td>2.000000e-10</td>\n",
       "      <td>0.002314</td>\n",
       "      <td>0.023892</td>\n",
       "      <td>2.259340e-01</td>\n",
       "      <td>2.300740e+06</td>\n",
       "    </tr>\n",
       "    <tr>\n",
       "      <th>volume</th>\n",
       "      <td>942297.0</td>\n",
       "      <td>8.720383e+06</td>\n",
       "      <td>1.839802e+08</td>\n",
       "      <td>0.000000e+00</td>\n",
       "      <td>175.000000</td>\n",
       "      <td>4278.000000</td>\n",
       "      <td>1.190900e+05</td>\n",
       "      <td>2.384090e+10</td>\n",
       "    </tr>\n",
       "    <tr>\n",
       "      <th>market</th>\n",
       "      <td>942297.0</td>\n",
       "      <td>1.725060e+08</td>\n",
       "      <td>3.575590e+09</td>\n",
       "      <td>0.000000e+00</td>\n",
       "      <td>29581.000000</td>\n",
       "      <td>522796.000000</td>\n",
       "      <td>6.874647e+06</td>\n",
       "      <td>3.265025e+11</td>\n",
       "    </tr>\n",
       "    <tr>\n",
       "      <th>close_ratio</th>\n",
       "      <td>942297.0</td>\n",
       "      <td>4.594995e-01</td>\n",
       "      <td>3.261605e-01</td>\n",
       "      <td>-1.000000e+00</td>\n",
       "      <td>0.162900</td>\n",
       "      <td>0.432400</td>\n",
       "      <td>7.458000e-01</td>\n",
       "      <td>1.000000e+00</td>\n",
       "    </tr>\n",
       "    <tr>\n",
       "      <th>spread</th>\n",
       "      <td>942297.0</td>\n",
       "      <td>1.123400e+02</td>\n",
       "      <td>6.783713e+03</td>\n",
       "      <td>0.000000e+00</td>\n",
       "      <td>0.000000</td>\n",
       "      <td>0.000000</td>\n",
       "      <td>3.000000e-02</td>\n",
       "      <td>1.770563e+06</td>\n",
       "    </tr>\n",
       "  </tbody>\n",
       "</table>\n",
       "</div>"
      ],
      "text/plain": [
       "                count          mean           std           min           25%  \\\n",
       "ranknow      942297.0  1.000171e+03  5.875753e+02  1.000000e+00    465.000000   \n",
       "open         942297.0  3.483522e+02  1.318436e+04  2.500000e-09      0.002321   \n",
       "high         942297.0  4.085930e+02  1.616386e+04  3.200000e-09      0.002628   \n",
       "low          942297.0  2.962526e+02  1.092931e+04  2.500000e-10      0.002044   \n",
       "close        942297.0  3.461018e+02  1.309822e+04  2.000000e-10      0.002314   \n",
       "volume       942297.0  8.720383e+06  1.839802e+08  0.000000e+00    175.000000   \n",
       "market       942297.0  1.725060e+08  3.575590e+09  0.000000e+00  29581.000000   \n",
       "close_ratio  942297.0  4.594995e-01  3.261605e-01 -1.000000e+00      0.162900   \n",
       "spread       942297.0  1.123400e+02  6.783713e+03  0.000000e+00      0.000000   \n",
       "\n",
       "                       50%           75%           max  \n",
       "ranknow        1072.000000  1.484000e+03  2.072000e+03  \n",
       "open              0.023983  2.268600e-01  2.298390e+06  \n",
       "high              0.026802  2.508940e-01  2.926100e+06  \n",
       "low               0.021437  2.043910e-01  2.030590e+06  \n",
       "close             0.023892  2.259340e-01  2.300740e+06  \n",
       "volume         4278.000000  1.190900e+05  2.384090e+10  \n",
       "market       522796.000000  6.874647e+06  3.265025e+11  \n",
       "close_ratio       0.432400  7.458000e-01  1.000000e+00  \n",
       "spread            0.000000  3.000000e-02  1.770563e+06  "
      ]
     },
     "execution_count": 5,
     "metadata": {},
     "output_type": "execute_result"
    }
   ],
   "source": [
    "df_cr.describe().T"
   ]
  },
  {
   "cell_type": "code",
   "execution_count": 6,
   "id": "fcd6b7ed",
   "metadata": {},
   "outputs": [
    {
     "data": {
      "text/plain": [
       "Index(['slug', 'symbol', 'name', 'date', 'ranknow', 'open', 'high', 'low',\n",
       "       'close', 'volume', 'market', 'close_ratio', 'spread'],\n",
       "      dtype='object')"
      ]
     },
     "execution_count": 6,
     "metadata": {},
     "output_type": "execute_result"
    }
   ],
   "source": [
    "df_cr.columns"
   ]
  },
  {
   "cell_type": "code",
   "execution_count": 8,
   "id": "7434017a",
   "metadata": {},
   "outputs": [
    {
     "data": {
      "text/plain": [
       "(942297, 13)"
      ]
     },
     "execution_count": 8,
     "metadata": {},
     "output_type": "execute_result"
    }
   ],
   "source": [
    "df_cr.shape"
   ]
  },
  {
   "cell_type": "code",
   "execution_count": 13,
   "id": "7915a121",
   "metadata": {},
   "outputs": [
    {
     "data": {
      "text/html": [
       "<div>\n",
       "<style scoped>\n",
       "    .dataframe tbody tr th:only-of-type {\n",
       "        vertical-align: middle;\n",
       "    }\n",
       "\n",
       "    .dataframe tbody tr th {\n",
       "        vertical-align: top;\n",
       "    }\n",
       "\n",
       "    .dataframe thead th {\n",
       "        text-align: right;\n",
       "    }\n",
       "</style>\n",
       "<table border=\"1\" class=\"dataframe\">\n",
       "  <thead>\n",
       "    <tr style=\"text-align: right;\">\n",
       "      <th></th>\n",
       "      <th>slug</th>\n",
       "      <th>symbol</th>\n",
       "      <th>name</th>\n",
       "      <th>date</th>\n",
       "      <th>ranknow</th>\n",
       "      <th>open</th>\n",
       "      <th>high</th>\n",
       "      <th>low</th>\n",
       "      <th>close</th>\n",
       "      <th>volume</th>\n",
       "      <th>market</th>\n",
       "      <th>close_ratio</th>\n",
       "      <th>spread</th>\n",
       "    </tr>\n",
       "  </thead>\n",
       "  <tbody>\n",
       "    <tr>\n",
       "      <th>0</th>\n",
       "      <td>bitcoin</td>\n",
       "      <td>BTC</td>\n",
       "      <td>Bitcoin</td>\n",
       "      <td>2013-04-28</td>\n",
       "      <td>1</td>\n",
       "      <td>135.30</td>\n",
       "      <td>135.98</td>\n",
       "      <td>132.10</td>\n",
       "      <td>134.21</td>\n",
       "      <td>0.0</td>\n",
       "      <td>1.488567e+09</td>\n",
       "      <td>0.5438</td>\n",
       "      <td>3.88</td>\n",
       "    </tr>\n",
       "    <tr>\n",
       "      <th>1</th>\n",
       "      <td>bitcoin</td>\n",
       "      <td>BTC</td>\n",
       "      <td>Bitcoin</td>\n",
       "      <td>2013-04-29</td>\n",
       "      <td>1</td>\n",
       "      <td>134.44</td>\n",
       "      <td>147.49</td>\n",
       "      <td>134.00</td>\n",
       "      <td>144.54</td>\n",
       "      <td>0.0</td>\n",
       "      <td>1.603769e+09</td>\n",
       "      <td>0.7813</td>\n",
       "      <td>13.49</td>\n",
       "    </tr>\n",
       "    <tr>\n",
       "      <th>2</th>\n",
       "      <td>bitcoin</td>\n",
       "      <td>BTC</td>\n",
       "      <td>Bitcoin</td>\n",
       "      <td>2013-04-30</td>\n",
       "      <td>1</td>\n",
       "      <td>144.00</td>\n",
       "      <td>146.93</td>\n",
       "      <td>134.05</td>\n",
       "      <td>139.00</td>\n",
       "      <td>0.0</td>\n",
       "      <td>1.542813e+09</td>\n",
       "      <td>0.3843</td>\n",
       "      <td>12.88</td>\n",
       "    </tr>\n",
       "    <tr>\n",
       "      <th>3</th>\n",
       "      <td>bitcoin</td>\n",
       "      <td>BTC</td>\n",
       "      <td>Bitcoin</td>\n",
       "      <td>2013-05-01</td>\n",
       "      <td>1</td>\n",
       "      <td>139.00</td>\n",
       "      <td>139.89</td>\n",
       "      <td>107.72</td>\n",
       "      <td>116.99</td>\n",
       "      <td>0.0</td>\n",
       "      <td>1.298955e+09</td>\n",
       "      <td>0.2882</td>\n",
       "      <td>32.17</td>\n",
       "    </tr>\n",
       "    <tr>\n",
       "      <th>4</th>\n",
       "      <td>bitcoin</td>\n",
       "      <td>BTC</td>\n",
       "      <td>Bitcoin</td>\n",
       "      <td>2013-05-02</td>\n",
       "      <td>1</td>\n",
       "      <td>116.38</td>\n",
       "      <td>125.60</td>\n",
       "      <td>92.28</td>\n",
       "      <td>105.21</td>\n",
       "      <td>0.0</td>\n",
       "      <td>1.168517e+09</td>\n",
       "      <td>0.3881</td>\n",
       "      <td>33.32</td>\n",
       "    </tr>\n",
       "  </tbody>\n",
       "</table>\n",
       "</div>"
      ],
      "text/plain": [
       "      slug symbol     name        date  ranknow    open    high     low  \\\n",
       "0  bitcoin    BTC  Bitcoin  2013-04-28        1  135.30  135.98  132.10   \n",
       "1  bitcoin    BTC  Bitcoin  2013-04-29        1  134.44  147.49  134.00   \n",
       "2  bitcoin    BTC  Bitcoin  2013-04-30        1  144.00  146.93  134.05   \n",
       "3  bitcoin    BTC  Bitcoin  2013-05-01        1  139.00  139.89  107.72   \n",
       "4  bitcoin    BTC  Bitcoin  2013-05-02        1  116.38  125.60   92.28   \n",
       "\n",
       "    close  volume        market  close_ratio  spread  \n",
       "0  134.21     0.0  1.488567e+09       0.5438    3.88  \n",
       "1  144.54     0.0  1.603769e+09       0.7813   13.49  \n",
       "2  139.00     0.0  1.542813e+09       0.3843   12.88  \n",
       "3  116.99     0.0  1.298955e+09       0.2882   32.17  \n",
       "4  105.21     0.0  1.168517e+09       0.3881   33.32  "
      ]
     },
     "execution_count": 13,
     "metadata": {},
     "output_type": "execute_result"
    }
   ],
   "source": [
    "df_cr.head(5)"
   ]
  },
  {
   "cell_type": "code",
   "execution_count": 14,
   "id": "d7cc0074",
   "metadata": {},
   "outputs": [
    {
     "data": {
      "text/html": [
       "<div>\n",
       "<style scoped>\n",
       "    .dataframe tbody tr th:only-of-type {\n",
       "        vertical-align: middle;\n",
       "    }\n",
       "\n",
       "    .dataframe tbody tr th {\n",
       "        vertical-align: top;\n",
       "    }\n",
       "\n",
       "    .dataframe thead th {\n",
       "        text-align: right;\n",
       "    }\n",
       "</style>\n",
       "<table border=\"1\" class=\"dataframe\">\n",
       "  <thead>\n",
       "    <tr style=\"text-align: right;\">\n",
       "      <th></th>\n",
       "      <th>slug</th>\n",
       "      <th>symbol</th>\n",
       "      <th>name</th>\n",
       "      <th>date</th>\n",
       "      <th>ranknow</th>\n",
       "      <th>open</th>\n",
       "      <th>high</th>\n",
       "      <th>low</th>\n",
       "      <th>close</th>\n",
       "      <th>volume</th>\n",
       "      <th>market</th>\n",
       "      <th>close_ratio</th>\n",
       "      <th>spread</th>\n",
       "    </tr>\n",
       "  </thead>\n",
       "  <tbody>\n",
       "    <tr>\n",
       "      <th>942292</th>\n",
       "      <td>project-x</td>\n",
       "      <td>NANOX</td>\n",
       "      <td>Project-X</td>\n",
       "      <td>2018-11-26</td>\n",
       "      <td>1727</td>\n",
       "      <td>22424.60</td>\n",
       "      <td>23049.30</td>\n",
       "      <td>17607.50</td>\n",
       "      <td>20724.80</td>\n",
       "      <td>143.0</td>\n",
       "      <td>1622.0</td>\n",
       "      <td>0.5728</td>\n",
       "      <td>5441.80</td>\n",
       "    </tr>\n",
       "    <tr>\n",
       "      <th>942293</th>\n",
       "      <td>project-x</td>\n",
       "      <td>NANOX</td>\n",
       "      <td>Project-X</td>\n",
       "      <td>2018-11-27</td>\n",
       "      <td>1727</td>\n",
       "      <td>20711.90</td>\n",
       "      <td>23742.10</td>\n",
       "      <td>19292.90</td>\n",
       "      <td>23298.70</td>\n",
       "      <td>637.0</td>\n",
       "      <td>1823.0</td>\n",
       "      <td>0.9003</td>\n",
       "      <td>4449.20</td>\n",
       "    </tr>\n",
       "    <tr>\n",
       "      <th>942294</th>\n",
       "      <td>project-x</td>\n",
       "      <td>NANOX</td>\n",
       "      <td>Project-X</td>\n",
       "      <td>2018-11-28</td>\n",
       "      <td>1727</td>\n",
       "      <td>23320.90</td>\n",
       "      <td>25235.10</td>\n",
       "      <td>19888.10</td>\n",
       "      <td>24442.70</td>\n",
       "      <td>49.0</td>\n",
       "      <td>1913.0</td>\n",
       "      <td>0.8518</td>\n",
       "      <td>5347.00</td>\n",
       "    </tr>\n",
       "    <tr>\n",
       "      <th>942295</th>\n",
       "      <td>project-x</td>\n",
       "      <td>NANOX</td>\n",
       "      <td>Project-X</td>\n",
       "      <td>2018-11-29</td>\n",
       "      <td>1727</td>\n",
       "      <td>24543.53</td>\n",
       "      <td>24582.47</td>\n",
       "      <td>21457.95</td>\n",
       "      <td>22839.44</td>\n",
       "      <td>153.0</td>\n",
       "      <td>1788.0</td>\n",
       "      <td>0.4421</td>\n",
       "      <td>3124.52</td>\n",
       "    </tr>\n",
       "    <tr>\n",
       "      <th>942296</th>\n",
       "      <td>project-x</td>\n",
       "      <td>NANOX</td>\n",
       "      <td>Project-X</td>\n",
       "      <td>2018-11-30</td>\n",
       "      <td>1727</td>\n",
       "      <td>22872.09</td>\n",
       "      <td>23086.98</td>\n",
       "      <td>19040.91</td>\n",
       "      <td>21136.72</td>\n",
       "      <td>125.0</td>\n",
       "      <td>1654.0</td>\n",
       "      <td>0.5180</td>\n",
       "      <td>4046.07</td>\n",
       "    </tr>\n",
       "  </tbody>\n",
       "</table>\n",
       "</div>"
      ],
      "text/plain": [
       "             slug symbol       name        date  ranknow      open      high  \\\n",
       "942292  project-x  NANOX  Project-X  2018-11-26     1727  22424.60  23049.30   \n",
       "942293  project-x  NANOX  Project-X  2018-11-27     1727  20711.90  23742.10   \n",
       "942294  project-x  NANOX  Project-X  2018-11-28     1727  23320.90  25235.10   \n",
       "942295  project-x  NANOX  Project-X  2018-11-29     1727  24543.53  24582.47   \n",
       "942296  project-x  NANOX  Project-X  2018-11-30     1727  22872.09  23086.98   \n",
       "\n",
       "             low     close  volume  market  close_ratio   spread  \n",
       "942292  17607.50  20724.80   143.0  1622.0       0.5728  5441.80  \n",
       "942293  19292.90  23298.70   637.0  1823.0       0.9003  4449.20  \n",
       "942294  19888.10  24442.70    49.0  1913.0       0.8518  5347.00  \n",
       "942295  21457.95  22839.44   153.0  1788.0       0.4421  3124.52  \n",
       "942296  19040.91  21136.72   125.0  1654.0       0.5180  4046.07  "
      ]
     },
     "execution_count": 14,
     "metadata": {},
     "output_type": "execute_result"
    }
   ],
   "source": [
    "df_cr.tail()"
   ]
  },
  {
   "cell_type": "markdown",
   "id": "b5772bd6",
   "metadata": {},
   "source": [
    "## Original Data backup"
   ]
  },
  {
   "cell_type": "code",
   "execution_count": 10,
   "id": "894137de",
   "metadata": {},
   "outputs": [
    {
     "data": {
      "text/plain": [
       "'Original data backup'"
      ]
     },
     "execution_count": 10,
     "metadata": {},
     "output_type": "execute_result"
    }
   ],
   "source": [
    "df_cr_b1 = df_cr.copy \n",
    "\"\"\"Original data backup\"\"\""
   ]
  },
  {
   "cell_type": "markdown",
   "id": "4d5a6da0",
   "metadata": {},
   "source": [
    "## Data Cleaning"
   ]
  },
  {
   "cell_type": "code",
   "execution_count": 15,
   "id": "3b893847",
   "metadata": {},
   "outputs": [
    {
     "data": {
      "text/plain": [
       "slug           0\n",
       "symbol         0\n",
       "name           0\n",
       "date           0\n",
       "ranknow        0\n",
       "open           0\n",
       "high           0\n",
       "low            0\n",
       "close          0\n",
       "volume         0\n",
       "market         0\n",
       "close_ratio    0\n",
       "spread         0\n",
       "dtype: int64"
      ]
     },
     "execution_count": 15,
     "metadata": {},
     "output_type": "execute_result"
    }
   ],
   "source": [
    "df_cr.isnull().sum() #No Null Data available in the dataframe"
   ]
  },
  {
   "cell_type": "code",
   "execution_count": 11,
   "id": "7271367d",
   "metadata": {},
   "outputs": [
    {
     "data": {
      "text/plain": [
       "slug            object\n",
       "symbol          object\n",
       "name            object\n",
       "date            object\n",
       "ranknow          int64\n",
       "open           float64\n",
       "high           float64\n",
       "low            float64\n",
       "close          float64\n",
       "volume         float64\n",
       "market         float64\n",
       "close_ratio    float64\n",
       "spread         float64\n",
       "dtype: object"
      ]
     },
     "execution_count": 11,
     "metadata": {},
     "output_type": "execute_result"
    }
   ],
   "source": [
    "df_cr.dtypes"
   ]
  },
  {
   "cell_type": "code",
   "execution_count": 24,
   "id": "bdbcbaf1",
   "metadata": {},
   "outputs": [
    {
     "name": "stderr",
     "output_type": "stream",
     "text": [
      "/tmp/ipykernel_12084/1301157957.py:4: FutureWarning: The default value of regex will change from True to False in a future version.\n",
      "  df_cr[col] = df_cr[col].str.replace(r'\\W', \"\")\n"
     ]
    },
    {
     "name": "stdout",
     "output_type": "stream",
     "text": [
      "            slug symbol      name        date  ranknow      open      high  \\\n",
      "0        bitcoin    BTC   Bitcoin  2013-04-28        1    135.30    135.98   \n",
      "1        bitcoin    BTC   Bitcoin  2013-04-29        1    134.44    147.49   \n",
      "2        bitcoin    BTC   Bitcoin  2013-04-30        1    144.00    146.93   \n",
      "3        bitcoin    BTC   Bitcoin  2013-05-01        1    139.00    139.89   \n",
      "4        bitcoin    BTC   Bitcoin  2013-05-02        1    116.38    125.60   \n",
      "...          ...    ...       ...         ...      ...       ...       ...   \n",
      "942292  projectx  NANOX  ProjectX  2018-11-26     1727  22424.60  23049.30   \n",
      "942293  projectx  NANOX  ProjectX  2018-11-27     1727  20711.90  23742.10   \n",
      "942294  projectx  NANOX  ProjectX  2018-11-28     1727  23320.90  25235.10   \n",
      "942295  projectx  NANOX  ProjectX  2018-11-29     1727  24543.53  24582.47   \n",
      "942296  projectx  NANOX  ProjectX  2018-11-30     1727  22872.09  23086.98   \n",
      "\n",
      "             low     close  volume        market  close_ratio   spread  \n",
      "0         132.10    134.21     0.0  1.488567e+09       0.5438     3.88  \n",
      "1         134.00    144.54     0.0  1.603769e+09       0.7813    13.49  \n",
      "2         134.05    139.00     0.0  1.542813e+09       0.3843    12.88  \n",
      "3         107.72    116.99     0.0  1.298955e+09       0.2882    32.17  \n",
      "4          92.28    105.21     0.0  1.168517e+09       0.3881    33.32  \n",
      "...          ...       ...     ...           ...          ...      ...  \n",
      "942292  17607.50  20724.80   143.0  1.622000e+03       0.5728  5441.80  \n",
      "942293  19292.90  23298.70   637.0  1.823000e+03       0.9003  4449.20  \n",
      "942294  19888.10  24442.70    49.0  1.913000e+03       0.8518  5347.00  \n",
      "942295  21457.95  22839.44   153.0  1.788000e+03       0.4421  3124.52  \n",
      "942296  19040.91  21136.72   125.0  1.654000e+03       0.5180  4046.07  \n",
      "\n",
      "[942297 rows x 13 columns]\n"
     ]
    }
   ],
   "source": [
    "#Replacing special charecter for string data\n",
    "colums = ['slug', 'symbol', 'name']\n",
    "for col in df_cr[colums]:\n",
    "    df_cr[col] = df_cr[col].str.replace(r'\\W', \"\")\n",
    "print(df_cr)    "
   ]
  },
  {
   "cell_type": "code",
   "execution_count": 22,
   "id": "745bea1b",
   "metadata": {},
   "outputs": [
    {
     "name": "stderr",
     "output_type": "stream",
     "text": [
      "/tmp/ipykernel_12084/839700863.py:1: FutureWarning: The default value of regex will change from True to False in a future version.\n",
      "  print(df_cr['name'].str.replace(r'\\W', \"\"))\n"
     ]
    },
    {
     "name": "stdout",
     "output_type": "stream",
     "text": [
      "0          Bitcoin\n",
      "1          Bitcoin\n",
      "2          Bitcoin\n",
      "3          Bitcoin\n",
      "4          Bitcoin\n",
      "            ...   \n",
      "942292    ProjectX\n",
      "942293    ProjectX\n",
      "942294    ProjectX\n",
      "942295    ProjectX\n",
      "942296    ProjectX\n",
      "Name: name, Length: 942297, dtype: object\n"
     ]
    }
   ],
   "source": [
    "print(df_cr['name'].str.replace(r'\\W', \"\"))"
   ]
  },
  {
   "cell_type": "markdown",
   "id": "e371e563",
   "metadata": {},
   "source": [
    "## Data Filtering"
   ]
  },
  {
   "cell_type": "code",
   "execution_count": null,
   "id": "73ce3300",
   "metadata": {},
   "outputs": [],
   "source": []
  }
 ],
 "metadata": {
  "kernelspec": {
   "display_name": "Python 3 (ipykernel)",
   "language": "python",
   "name": "python3"
  },
  "language_info": {
   "codemirror_mode": {
    "name": "ipython",
    "version": 3
   },
   "file_extension": ".py",
   "mimetype": "text/x-python",
   "name": "python",
   "nbconvert_exporter": "python",
   "pygments_lexer": "ipython3",
   "version": "3.9.7"
  },
  "toc": {
   "base_numbering": 1,
   "nav_menu": {},
   "number_sections": true,
   "sideBar": true,
   "skip_h1_title": false,
   "title_cell": "Table of Contents",
   "title_sidebar": "Contents",
   "toc_cell": false,
   "toc_position": {},
   "toc_section_display": true,
   "toc_window_display": false
  },
  "varInspector": {
   "cols": {
    "lenName": 16,
    "lenType": 16,
    "lenVar": 40
   },
   "kernels_config": {
    "python": {
     "delete_cmd_postfix": "",
     "delete_cmd_prefix": "del ",
     "library": "var_list.py",
     "varRefreshCmd": "print(var_dic_list())"
    },
    "r": {
     "delete_cmd_postfix": ") ",
     "delete_cmd_prefix": "rm(",
     "library": "var_list.r",
     "varRefreshCmd": "cat(var_dic_list()) "
    }
   },
   "types_to_exclude": [
    "module",
    "function",
    "builtin_function_or_method",
    "instance",
    "_Feature"
   ],
   "window_display": false
  }
 },
 "nbformat": 4,
 "nbformat_minor": 5
}
